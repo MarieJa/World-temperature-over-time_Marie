{
 "cells": [
  {
   "cell_type": "markdown",
   "id": "0d3c6a13",
   "metadata": {},
   "source": [
    "### 1. Import libraries"
   ]
  },
  {
   "cell_type": "markdown",
   "id": "d773ec42",
   "metadata": {},
   "source": [
    "### 2. Import data"
   ]
  },
  {
   "cell_type": "markdown",
   "id": "9e8c7df5",
   "metadata": {},
   "source": [
    "### 3. Subset data"
   ]
  },
  {
   "cell_type": "markdown",
   "id": "d9f5737c",
   "metadata": {},
   "source": [
    "### 4. Clean data\n",
    "  <ul>\n",
    "<li>4.1 Check columns</li>\n",
    "    <li>4.2 Check missing values</li>\n",
    "    <li>4.3 Check duplicates</li>\n",
    "  </ul>"
   ]
  },
  {
   "cell_type": "markdown",
   "id": "21fb1562",
   "metadata": {},
   "source": [
    "### 5. The Elbow technique"
   ]
  },
  {
   "cell_type": "markdown",
   "id": "9326768c",
   "metadata": {},
   "source": [
    "### 6. K-means clustering"
   ]
  },
  {
   "cell_type": "markdown",
   "id": "c8d46a61",
   "metadata": {},
   "source": [
    "### 7. Descriptive statistics "
   ]
  },
  {
   "cell_type": "markdown",
   "id": "80bf64b9",
   "metadata": {},
   "source": [
    "### 8. Scatterplot"
   ]
  },
  {
   "cell_type": "markdown",
   "id": "23c45367",
   "metadata": {},
   "source": [
    "### 9. Line chart"
   ]
  },
  {
   "cell_type": "markdown",
   "id": "e6ee28a2",
   "metadata": {},
   "source": [
    "# 1. Import libraries"
   ]
  },
  {
   "cell_type": "code",
   "execution_count": 1,
   "id": "5b35c532",
   "metadata": {},
   "outputs": [],
   "source": [
    "import pandas as pd\n",
    "import numpy as np\n",
    "import seaborn as sns\n",
    "import matplotlib\n",
    "import matplotlib.pyplot as plt\n",
    "import os\n",
    "import sklearn\n",
    "from sklearn.cluster import KMeans # Here is where you import the k-means algorithm from scikit-learn.\n",
    "import pylab as pl # PyLab is a convenience module that bulk imports matplotlib."
   ]
  },
  {
   "cell_type": "code",
   "execution_count": 2,
   "id": "c374fa94",
   "metadata": {},
   "outputs": [],
   "source": [
    "# This option ensures the graphs you create are displayed in your notebook without the need to \"call\" them specifically.\n",
    "\n",
    "%matplotlib inline"
   ]
  },
  {
   "cell_type": "markdown",
   "id": "97a8cbe5",
   "metadata": {},
   "source": [
    "# 2. Import data"
   ]
  },
  {
   "cell_type": "code",
   "execution_count": 3,
   "id": "d8b02951",
   "metadata": {},
   "outputs": [],
   "source": [
    "# Creata a path\n",
    "\n",
    "path = r'/Users/marie/Documents/CareerFoundry/11-2021 City Temperatures'"
   ]
  },
  {
   "cell_type": "code",
   "execution_count": 4,
   "id": "25b344d6",
   "metadata": {},
   "outputs": [],
   "source": [
    "# Import data\n",
    "\n",
    "df = pd.read_csv(os.path.join(path, '02 Data', 'Prepared Data', 'city_temperatures_more_clean.csv'))"
   ]
  },
  {
   "cell_type": "markdown",
   "id": "00e13701",
   "metadata": {},
   "source": [
    "# 3. Subset data"
   ]
  },
  {
   "cell_type": "code",
   "execution_count": 14,
   "id": "0d67f0ae",
   "metadata": {},
   "outputs": [],
   "source": [
    "# Create a subset of the dataframe to only keep the first year of the dataset.\n",
    "\n",
    "sub_95 = df[df['Year']== 1995]"
   ]
  },
  {
   "cell_type": "code",
   "execution_count": 16,
   "id": "c781b9a9",
   "metadata": {},
   "outputs": [
    {
     "data": {
      "text/plain": [
       "(118616, 2)"
      ]
     },
     "execution_count": 16,
     "metadata": {},
     "output_type": "execute_result"
    }
   ],
   "source": [
    "sub_95.shape"
   ]
  },
  {
   "cell_type": "code",
   "execution_count": 32,
   "id": "22d709c1",
   "metadata": {},
   "outputs": [],
   "source": [
    "# Create a subset of the dataframe to only keep the last year of the dataset.\n",
    "\n",
    "sub_19 = df[df['Year']== 2019]"
   ]
  },
  {
   "cell_type": "code",
   "execution_count": 33,
   "id": "1c2ebdc2",
   "metadata": {},
   "outputs": [
    {
     "data": {
      "text/plain": [
       "(106337, 2)"
      ]
     },
     "execution_count": 33,
     "metadata": {},
     "output_type": "execute_result"
    }
   ],
   "source": [
    "sub_19.shape"
   ]
  },
  {
   "cell_type": "markdown",
   "id": "cccbbad0",
   "metadata": {},
   "source": [
    "# 4. Clean data"
   ]
  },
  {
   "cell_type": "markdown",
   "id": "b272f895",
   "metadata": {},
   "source": [
    "### 4.1 Check columns"
   ]
  },
  {
   "cell_type": "code",
   "execution_count": 17,
   "id": "b9d4039b",
   "metadata": {},
   "outputs": [
    {
     "data": {
      "text/plain": [
       "Index(['Year', 'AvgTemperature'], dtype='object')"
      ]
     },
     "execution_count": 17,
     "metadata": {},
     "output_type": "execute_result"
    }
   ],
   "source": [
    "# Check columns for sub_95\n",
    "\n",
    "sub_95.columns"
   ]
  },
  {
   "cell_type": "code",
   "execution_count": 34,
   "id": "4dcf8766",
   "metadata": {},
   "outputs": [
    {
     "data": {
      "text/plain": [
       "Index(['Year', 'AvgTemperature'], dtype='object')"
      ]
     },
     "execution_count": 34,
     "metadata": {},
     "output_type": "execute_result"
    }
   ],
   "source": [
    "# Check columns for sub_19\n",
    "\n",
    "sub_19.columns"
   ]
  },
  {
   "cell_type": "markdown",
   "id": "e6855ecb",
   "metadata": {},
   "source": [
    "### 4.2 Check missing values"
   ]
  },
  {
   "cell_type": "code",
   "execution_count": 18,
   "id": "4c29eb56",
   "metadata": {},
   "outputs": [
    {
     "data": {
      "text/plain": [
       "Year              0\n",
       "AvgTemperature    0\n",
       "dtype: int64"
      ]
     },
     "execution_count": 18,
     "metadata": {},
     "output_type": "execute_result"
    }
   ],
   "source": [
    "# Check for missing values for sub_95\n",
    "\n",
    "sub_95.isnull().sum()"
   ]
  },
  {
   "cell_type": "code",
   "execution_count": 35,
   "id": "bc40e833",
   "metadata": {},
   "outputs": [
    {
     "data": {
      "text/plain": [
       "Year              0\n",
       "AvgTemperature    0\n",
       "dtype: int64"
      ]
     },
     "execution_count": 35,
     "metadata": {},
     "output_type": "execute_result"
    }
   ],
   "source": [
    "# Check for missing values for sub_19\n",
    "\n",
    "sub_19.isnull().sum()"
   ]
  },
  {
   "cell_type": "markdown",
   "id": "c496c298",
   "metadata": {},
   "source": [
    "### 4.3 Check duplicates"
   ]
  },
  {
   "cell_type": "code",
   "execution_count": 19,
   "id": "0680123e",
   "metadata": {},
   "outputs": [],
   "source": [
    "# Check for duplicates for sub_95\n",
    "\n",
    "dups = sub_95.duplicated()"
   ]
  },
  {
   "cell_type": "code",
   "execution_count": 20,
   "id": "48b39562",
   "metadata": {},
   "outputs": [
    {
     "data": {
      "text/plain": [
       "(118616,)"
      ]
     },
     "execution_count": 20,
     "metadata": {},
     "output_type": "execute_result"
    }
   ],
   "source": [
    "dups.shape"
   ]
  },
  {
   "cell_type": "code",
   "execution_count": 36,
   "id": "705efc39",
   "metadata": {},
   "outputs": [],
   "source": [
    "# Check for duplicates for sub_19\n",
    "\n",
    "dups_2 = sub_19.duplicated()"
   ]
  },
  {
   "cell_type": "code",
   "execution_count": 37,
   "id": "644c5de0",
   "metadata": {},
   "outputs": [
    {
     "data": {
      "text/plain": [
       "(106337,)"
      ]
     },
     "execution_count": 37,
     "metadata": {},
     "output_type": "execute_result"
    }
   ],
   "source": [
    "dups_2.shape"
   ]
  },
  {
   "cell_type": "markdown",
   "id": "7dab2784",
   "metadata": {},
   "source": [
    "# 5. The Elbow technique"
   ]
  },
  {
   "cell_type": "code",
   "execution_count": 11,
   "id": "9379a767",
   "metadata": {},
   "outputs": [],
   "source": [
    "num_cl = range(1, 10) # Defines the range of potential clusters in the data.\n",
    "\n",
    "kmeans = [KMeans(n_clusters=i) for i in num_cl] # Defines k-means clusters in the range assigned above."
   ]
  },
  {
   "cell_type": "code",
   "execution_count": 21,
   "id": "9a3ac1bb",
   "metadata": {},
   "outputs": [
    {
     "data": {
      "text/plain": [
       "[-41051579.78207295,\n",
       " -13322097.65258029,\n",
       " -6603564.088526552,\n",
       " -3993439.9745955276,\n",
       " -2759253.247680204,\n",
       " -2022736.0808845835,\n",
       " -1525084.3914631198,\n",
       " -1228719.6375988657,\n",
       " -976227.015074683]"
      ]
     },
     "execution_count": 21,
     "metadata": {},
     "output_type": "execute_result"
    }
   ],
   "source": [
    "score = [kmeans[i].fit(sub_95).score(sub_95) for i in range(len(kmeans))] # Creates a score that represents \n",
    "# a rate of variation for the given cluster option.\n",
    "\n",
    "score"
   ]
  },
  {
   "cell_type": "code",
   "execution_count": 22,
   "id": "5ae969fb",
   "metadata": {},
   "outputs": [
    {
     "data": {
      "image/png": "[encoded data removed]",
      "text/plain": [
       "<Figure size 432x288 with 1 Axes>"
      ]
     },
     "metadata": {
      "needs_background": "light"
     },
     "output_type": "display_data"
    }
   ],
   "source": [
    "# Plot the elbow curve using PyLab.\n",
    "\n",
    "pl.plot(num_cl,score)\n",
    "pl.xlabel('Number of Clusters')\n",
    "pl.ylabel('Score')\n",
    "pl.title('Elbow Curve')\n",
    "pl.show()"
   ]
  },
  {
   "cell_type": "markdown",
   "id": "99459beb",
   "metadata": {},
   "source": [
    "#### The optimal count for the cluster is 3."
   ]
  },
  {
   "cell_type": "markdown",
   "id": "126e8284",
   "metadata": {},
   "source": [
    "# 6. K-means clustering"
   ]
  },
  {
   "cell_type": "code",
   "execution_count": 23,
   "id": "d0281e8e",
   "metadata": {},
   "outputs": [],
   "source": [
    "# Create the k-means object.\n",
    "\n",
    "kmeans = KMeans(n_clusters = 3, n_jobs = -1) "
   ]
  },
  {
   "cell_type": "code",
   "execution_count": 24,
   "id": "d39b2a3e",
   "metadata": {},
   "outputs": [
    {
     "name": "stderr",
     "output_type": "stream",
     "text": [
      "/Users/marie/opt/anaconda3/lib/python3.8/site-packages/sklearn/cluster/_kmeans.py:792: FutureWarning: 'n_jobs' was deprecated in version 0.23 and will be removed in 1.0 (renaming of 0.25).\n",
      "  warnings.warn(\"'n_jobs' was deprecated in version 0.23 and will be\"\n"
     ]
    },
    {
     "data": {
      "text/plain": [
       "KMeans(n_clusters=3, n_jobs=-1)"
      ]
     },
     "execution_count": 24,
     "metadata": {},
     "output_type": "execute_result"
    }
   ],
   "source": [
    "# Fit the k-means object to the data.\n",
    "\n",
    "kmeans.fit(sub_95)"
   ]
  },
  {
   "cell_type": "code",
   "execution_count": 25,
   "id": "1a7c2f25",
   "metadata": {},
   "outputs": [
    {
     "name": "stderr",
     "output_type": "stream",
     "text": [
      "/Users/marie/opt/anaconda3/lib/python3.8/site-packages/sklearn/cluster/_kmeans.py:792: FutureWarning: 'n_jobs' was deprecated in version 0.23 and will be removed in 1.0 (renaming of 0.25).\n",
      "  warnings.warn(\"'n_jobs' was deprecated in version 0.23 and will be\"\n",
      "<ipython-input-25-86d10b279c3f>:1: SettingWithCopyWarning: \n",
      "A value is trying to be set on a copy of a slice from a DataFrame.\n",
      "Try using .loc[row_indexer,col_indexer] = value instead\n",
      "\n",
      "See the caveats in the documentation: https://pandas.pydata.org/pandas-docs/stable/user_guide/indexing.html#returning-a-view-versus-a-copy\n",
      "  sub_95['clusters'] = kmeans.fit_predict(sub_95)\n"
     ]
    }
   ],
   "source": [
    "sub_95['clusters'] = kmeans.fit_predict(sub_95)"
   ]
  },
  {
   "cell_type": "code",
   "execution_count": 40,
   "id": "7943181f",
   "metadata": {},
   "outputs": [
    {
     "name": "stderr",
     "output_type": "stream",
     "text": [
      "/Users/marie/opt/anaconda3/lib/python3.8/site-packages/sklearn/cluster/_kmeans.py:792: FutureWarning: 'n_jobs' was deprecated in version 0.23 and will be removed in 1.0 (renaming of 0.25).\n",
      "  warnings.warn(\"'n_jobs' was deprecated in version 0.23 and will be\"\n",
      "<ipython-input-40-fbc39f50e6ae>:1: SettingWithCopyWarning: \n",
      "A value is trying to be set on a copy of a slice from a DataFrame.\n",
      "Try using .loc[row_indexer,col_indexer] = value instead\n",
      "\n",
      "See the caveats in the documentation: https://pandas.pydata.org/pandas-docs/stable/user_guide/indexing.html#returning-a-view-versus-a-copy\n",
      "  sub_19['clusters'] = kmeans.fit_predict(sub_19)\n"
     ]
    }
   ],
   "source": [
    "sub_19['clusters'] = kmeans.fit_predict(sub_19)"
   ]
  },
  {
   "cell_type": "code",
   "execution_count": 26,
   "id": "6b53f8ba",
   "metadata": {},
   "outputs": [
    {
     "data": {
      "text/html": [
       "<div>\n",
       "<style scoped>\n",
       "    .dataframe tbody tr th:only-of-type {\n",
       "        vertical-align: middle;\n",
       "    }\n",
       "\n",
       "    .dataframe tbody tr th {\n",
       "        vertical-align: top;\n",
       "    }\n",
       "\n",
       "    .dataframe thead th {\n",
       "        text-align: right;\n",
       "    }\n",
       "</style>\n",
       "<table border=\"1\" class=\"dataframe\">\n",
       "  <thead>\n",
       "    <tr style=\"text-align: right;\">\n",
       "      <th></th>\n",
       "      <th>Year</th>\n",
       "      <th>AvgTemperature</th>\n",
       "      <th>clusters</th>\n",
       "    </tr>\n",
       "  </thead>\n",
       "  <tbody>\n",
       "    <tr>\n",
       "      <th>0</th>\n",
       "      <td>1995</td>\n",
       "      <td>64.2</td>\n",
       "      <td>0</td>\n",
       "    </tr>\n",
       "    <tr>\n",
       "      <th>1</th>\n",
       "      <td>1995</td>\n",
       "      <td>49.4</td>\n",
       "      <td>0</td>\n",
       "    </tr>\n",
       "    <tr>\n",
       "      <th>2</th>\n",
       "      <td>1995</td>\n",
       "      <td>48.8</td>\n",
       "      <td>0</td>\n",
       "    </tr>\n",
       "    <tr>\n",
       "      <th>3</th>\n",
       "      <td>1995</td>\n",
       "      <td>46.4</td>\n",
       "      <td>0</td>\n",
       "    </tr>\n",
       "    <tr>\n",
       "      <th>4</th>\n",
       "      <td>1995</td>\n",
       "      <td>47.9</td>\n",
       "      <td>0</td>\n",
       "    </tr>\n",
       "  </tbody>\n",
       "</table>\n",
       "</div>"
      ],
      "text/plain": [
       "   Year  AvgTemperature  clusters\n",
       "0  1995            64.2         0\n",
       "1  1995            49.4         0\n",
       "2  1995            48.8         0\n",
       "3  1995            46.4         0\n",
       "4  1995            47.9         0"
      ]
     },
     "execution_count": 26,
     "metadata": {},
     "output_type": "execute_result"
    }
   ],
   "source": [
    "sub_95.head()"
   ]
  },
  {
   "cell_type": "code",
   "execution_count": 27,
   "id": "3a532838",
   "metadata": {},
   "outputs": [
    {
     "data": {
      "text/plain": [
       "0    49634\n",
       "1    43578\n",
       "2    25404\n",
       "Name: clusters, dtype: int64"
      ]
     },
     "execution_count": 27,
     "metadata": {},
     "output_type": "execute_result"
    }
   ],
   "source": [
    "# Clusters count for subset_1995\n",
    "\n",
    "sub_95['clusters'].value_counts()"
   ]
  },
  {
   "cell_type": "code",
   "execution_count": 41,
   "id": "8e6b553e",
   "metadata": {},
   "outputs": [
    {
     "data": {
      "text/html": [
       "<div>\n",
       "<style scoped>\n",
       "    .dataframe tbody tr th:only-of-type {\n",
       "        vertical-align: middle;\n",
       "    }\n",
       "\n",
       "    .dataframe tbody tr th {\n",
       "        vertical-align: top;\n",
       "    }\n",
       "\n",
       "    .dataframe thead th {\n",
       "        text-align: right;\n",
       "    }\n",
       "</style>\n",
       "<table border=\"1\" class=\"dataframe\">\n",
       "  <thead>\n",
       "    <tr style=\"text-align: right;\">\n",
       "      <th></th>\n",
       "      <th>Year</th>\n",
       "      <th>AvgTemperature</th>\n",
       "      <th>clusters</th>\n",
       "    </tr>\n",
       "  </thead>\n",
       "  <tbody>\n",
       "    <tr>\n",
       "      <th>8767</th>\n",
       "      <td>2019</td>\n",
       "      <td>50.6</td>\n",
       "      <td>2</td>\n",
       "    </tr>\n",
       "    <tr>\n",
       "      <th>8768</th>\n",
       "      <td>2019</td>\n",
       "      <td>49.9</td>\n",
       "      <td>2</td>\n",
       "    </tr>\n",
       "    <tr>\n",
       "      <th>8769</th>\n",
       "      <td>2019</td>\n",
       "      <td>50.9</td>\n",
       "      <td>2</td>\n",
       "    </tr>\n",
       "    <tr>\n",
       "      <th>8770</th>\n",
       "      <td>2019</td>\n",
       "      <td>50.6</td>\n",
       "      <td>2</td>\n",
       "    </tr>\n",
       "    <tr>\n",
       "      <th>8771</th>\n",
       "      <td>2019</td>\n",
       "      <td>49.7</td>\n",
       "      <td>2</td>\n",
       "    </tr>\n",
       "  </tbody>\n",
       "</table>\n",
       "</div>"
      ],
      "text/plain": [
       "      Year  AvgTemperature  clusters\n",
       "8767  2019            50.6         2\n",
       "8768  2019            49.9         2\n",
       "8769  2019            50.9         2\n",
       "8770  2019            50.6         2\n",
       "8771  2019            49.7         2"
      ]
     },
     "execution_count": 41,
     "metadata": {},
     "output_type": "execute_result"
    }
   ],
   "source": [
    "sub_19.head()"
   ]
  },
  {
   "cell_type": "code",
   "execution_count": 42,
   "id": "9fcf7184",
   "metadata": {},
   "outputs": [
    {
     "data": {
      "text/plain": [
       "0    45306\n",
       "2    38169\n",
       "1    22862\n",
       "Name: clusters, dtype: int64"
      ]
     },
     "execution_count": 42,
     "metadata": {},
     "output_type": "execute_result"
    }
   ],
   "source": [
    "# Clusters count for subset_2019\n",
    "\n",
    "sub_19['clusters'].value_counts()"
   ]
  },
  {
   "cell_type": "markdown",
   "id": "872e8a27",
   "metadata": {},
   "source": [
    "# 7. Descriptive statistics for the clusters"
   ]
  },
  {
   "cell_type": "code",
   "execution_count": 28,
   "id": "49203137",
   "metadata": {},
   "outputs": [
    {
     "name": "stderr",
     "output_type": "stream",
     "text": [
      "/Users/marie/opt/anaconda3/lib/python3.8/site-packages/pandas/core/indexing.py:1599: SettingWithCopyWarning: \n",
      "A value is trying to be set on a copy of a slice from a DataFrame.\n",
      "Try using .loc[row_indexer,col_indexer] = value instead\n",
      "\n",
      "See the caveats in the documentation: https://pandas.pydata.org/pandas-docs/stable/user_guide/indexing.html#returning-a-view-versus-a-copy\n",
      "  self.obj[key] = infer_fill_value(value)\n",
      "/Users/marie/opt/anaconda3/lib/python3.8/site-packages/pandas/core/indexing.py:1720: SettingWithCopyWarning: \n",
      "A value is trying to be set on a copy of a slice from a DataFrame.\n",
      "Try using .loc[row_indexer,col_indexer] = value instead\n",
      "\n",
      "See the caveats in the documentation: https://pandas.pydata.org/pandas-docs/stable/user_guide/indexing.html#returning-a-view-versus-a-copy\n",
      "  self._setitem_single_column(loc, value, pi)\n",
      "/Users/marie/opt/anaconda3/lib/python3.8/site-packages/pandas/core/indexing.py:1720: SettingWithCopyWarning: \n",
      "A value is trying to be set on a copy of a slice from a DataFrame.\n",
      "Try using .loc[row_indexer,col_indexer] = value instead\n",
      "\n",
      "See the caveats in the documentation: https://pandas.pydata.org/pandas-docs/stable/user_guide/indexing.html#returning-a-view-versus-a-copy\n",
      "  self._setitem_single_column(loc, value, pi)\n",
      "/Users/marie/opt/anaconda3/lib/python3.8/site-packages/pandas/core/indexing.py:1720: SettingWithCopyWarning: \n",
      "A value is trying to be set on a copy of a slice from a DataFrame.\n",
      "Try using .loc[row_indexer,col_indexer] = value instead\n",
      "\n",
      "See the caveats in the documentation: https://pandas.pydata.org/pandas-docs/stable/user_guide/indexing.html#returning-a-view-versus-a-copy\n",
      "  self._setitem_single_column(loc, value, pi)\n"
     ]
    }
   ],
   "source": [
    "# Group by \"clusters\" using loc.\n",
    "\n",
    "sub_95.loc[sub_95['clusters'] == 2, 'cluster'] = 'dark purple'\n",
    "sub_95.loc[sub_95['clusters'] == 1, 'cluster'] = 'purple'\n",
    "sub_95.loc[sub_95['clusters'] == 0, 'cluster'] = 'pink'"
   ]
  },
  {
   "cell_type": "code",
   "execution_count": 29,
   "id": "ba0e2396",
   "metadata": {},
   "outputs": [
    {
     "data": {
      "text/html": [
       "<div>\n",
       "<style scoped>\n",
       "    .dataframe tbody tr th:only-of-type {\n",
       "        vertical-align: middle;\n",
       "    }\n",
       "\n",
       "    .dataframe tbody tr th {\n",
       "        vertical-align: top;\n",
       "    }\n",
       "\n",
       "    .dataframe thead tr th {\n",
       "        text-align: left;\n",
       "    }\n",
       "\n",
       "    .dataframe thead tr:last-of-type th {\n",
       "        text-align: right;\n",
       "    }\n",
       "</style>\n",
       "<table border=\"1\" class=\"dataframe\">\n",
       "  <thead>\n",
       "    <tr>\n",
       "      <th></th>\n",
       "      <th colspan=\"2\" halign=\"left\">Year</th>\n",
       "      <th colspan=\"2\" halign=\"left\">AvgTemperature</th>\n",
       "    </tr>\n",
       "    <tr>\n",
       "      <th></th>\n",
       "      <th>mean</th>\n",
       "      <th>median</th>\n",
       "      <th>mean</th>\n",
       "      <th>median</th>\n",
       "    </tr>\n",
       "    <tr>\n",
       "      <th>cluster</th>\n",
       "      <th></th>\n",
       "      <th></th>\n",
       "      <th></th>\n",
       "      <th></th>\n",
       "    </tr>\n",
       "  </thead>\n",
       "  <tbody>\n",
       "    <tr>\n",
       "      <th>dark purple</th>\n",
       "      <td>1995</td>\n",
       "      <td>1995</td>\n",
       "      <td>31.590076</td>\n",
       "      <td>34.0</td>\n",
       "    </tr>\n",
       "    <tr>\n",
       "      <th>pink</th>\n",
       "      <td>1995</td>\n",
       "      <td>1995</td>\n",
       "      <td>58.067595</td>\n",
       "      <td>59.2</td>\n",
       "    </tr>\n",
       "    <tr>\n",
       "      <th>purple</th>\n",
       "      <td>1995</td>\n",
       "      <td>1995</td>\n",
       "      <td>77.778563</td>\n",
       "      <td>77.6</td>\n",
       "    </tr>\n",
       "  </tbody>\n",
       "</table>\n",
       "</div>"
      ],
      "text/plain": [
       "             Year        AvgTemperature       \n",
       "             mean median           mean median\n",
       "cluster                                       \n",
       "dark purple  1995   1995      31.590076   34.0\n",
       "pink         1995   1995      58.067595   59.2\n",
       "purple       1995   1995      77.778563   77.6"
      ]
     },
     "execution_count": 29,
     "metadata": {},
     "output_type": "execute_result"
    }
   ],
   "source": [
    "# Print the descriptive statistics for the clusters in sub_95.\n",
    "\n",
    "sub_95.groupby('cluster').agg({'Year':['mean', 'median'], \n",
    "                         'AvgTemperature':['mean', 'median']})"
   ]
  },
  {
   "cell_type": "code",
   "execution_count": 43,
   "id": "5c6bf582",
   "metadata": {},
   "outputs": [
    {
     "name": "stderr",
     "output_type": "stream",
     "text": [
      "/Users/marie/opt/anaconda3/lib/python3.8/site-packages/pandas/core/indexing.py:1599: SettingWithCopyWarning: \n",
      "A value is trying to be set on a copy of a slice from a DataFrame.\n",
      "Try using .loc[row_indexer,col_indexer] = value instead\n",
      "\n",
      "See the caveats in the documentation: https://pandas.pydata.org/pandas-docs/stable/user_guide/indexing.html#returning-a-view-versus-a-copy\n",
      "  self.obj[key] = infer_fill_value(value)\n",
      "/Users/marie/opt/anaconda3/lib/python3.8/site-packages/pandas/core/indexing.py:1720: SettingWithCopyWarning: \n",
      "A value is trying to be set on a copy of a slice from a DataFrame.\n",
      "Try using .loc[row_indexer,col_indexer] = value instead\n",
      "\n",
      "See the caveats in the documentation: https://pandas.pydata.org/pandas-docs/stable/user_guide/indexing.html#returning-a-view-versus-a-copy\n",
      "  self._setitem_single_column(loc, value, pi)\n",
      "/Users/marie/opt/anaconda3/lib/python3.8/site-packages/pandas/core/indexing.py:1720: SettingWithCopyWarning: \n",
      "A value is trying to be set on a copy of a slice from a DataFrame.\n",
      "Try using .loc[row_indexer,col_indexer] = value instead\n",
      "\n",
      "See the caveats in the documentation: https://pandas.pydata.org/pandas-docs/stable/user_guide/indexing.html#returning-a-view-versus-a-copy\n",
      "  self._setitem_single_column(loc, value, pi)\n",
      "/Users/marie/opt/anaconda3/lib/python3.8/site-packages/pandas/core/indexing.py:1720: SettingWithCopyWarning: \n",
      "A value is trying to be set on a copy of a slice from a DataFrame.\n",
      "Try using .loc[row_indexer,col_indexer] = value instead\n",
      "\n",
      "See the caveats in the documentation: https://pandas.pydata.org/pandas-docs/stable/user_guide/indexing.html#returning-a-view-versus-a-copy\n",
      "  self._setitem_single_column(loc, value, pi)\n"
     ]
    }
   ],
   "source": [
    "# Group by \"clusters\" using loc.\n",
    "\n",
    "sub_19.loc[sub_19['clusters'] == 2, 'cluster'] = 'dark purple'\n",
    "sub_19.loc[sub_19['clusters'] == 1, 'cluster'] = 'purple'\n",
    "sub_19.loc[sub_19['clusters'] == 0, 'cluster'] = 'pink'"
   ]
  },
  {
   "cell_type": "code",
   "execution_count": 44,
   "id": "c2aecef7",
   "metadata": {},
   "outputs": [
    {
     "data": {
      "text/html": [
       "<div>\n",
       "<style scoped>\n",
       "    .dataframe tbody tr th:only-of-type {\n",
       "        vertical-align: middle;\n",
       "    }\n",
       "\n",
       "    .dataframe tbody tr th {\n",
       "        vertical-align: top;\n",
       "    }\n",
       "\n",
       "    .dataframe thead tr th {\n",
       "        text-align: left;\n",
       "    }\n",
       "\n",
       "    .dataframe thead tr:last-of-type th {\n",
       "        text-align: right;\n",
       "    }\n",
       "</style>\n",
       "<table border=\"1\" class=\"dataframe\">\n",
       "  <thead>\n",
       "    <tr>\n",
       "      <th></th>\n",
       "      <th colspan=\"2\" halign=\"left\">Year</th>\n",
       "      <th colspan=\"2\" halign=\"left\">AvgTemperature</th>\n",
       "    </tr>\n",
       "    <tr>\n",
       "      <th></th>\n",
       "      <th>mean</th>\n",
       "      <th>median</th>\n",
       "      <th>mean</th>\n",
       "      <th>median</th>\n",
       "    </tr>\n",
       "    <tr>\n",
       "      <th>cluster</th>\n",
       "      <th></th>\n",
       "      <th></th>\n",
       "      <th></th>\n",
       "      <th></th>\n",
       "    </tr>\n",
       "  </thead>\n",
       "  <tbody>\n",
       "    <tr>\n",
       "      <th>dark purple</th>\n",
       "      <td>2019</td>\n",
       "      <td>2019</td>\n",
       "      <td>57.479460</td>\n",
       "      <td>58.0</td>\n",
       "    </tr>\n",
       "    <tr>\n",
       "      <th>pink</th>\n",
       "      <td>2019</td>\n",
       "      <td>2019</td>\n",
       "      <td>78.499018</td>\n",
       "      <td>78.5</td>\n",
       "    </tr>\n",
       "    <tr>\n",
       "      <th>purple</th>\n",
       "      <td>2019</td>\n",
       "      <td>2019</td>\n",
       "      <td>32.772920</td>\n",
       "      <td>35.5</td>\n",
       "    </tr>\n",
       "  </tbody>\n",
       "</table>\n",
       "</div>"
      ],
      "text/plain": [
       "             Year        AvgTemperature       \n",
       "             mean median           mean median\n",
       "cluster                                       \n",
       "dark purple  2019   2019      57.479460   58.0\n",
       "pink         2019   2019      78.499018   78.5\n",
       "purple       2019   2019      32.772920   35.5"
      ]
     },
     "execution_count": 44,
     "metadata": {},
     "output_type": "execute_result"
    }
   ],
   "source": [
    "# Print the descriptive statistics for the clusters in sub_19.\n",
    "\n",
    "sub_19.groupby('cluster').agg({'Year':['mean', 'median'], \n",
    "                         'AvgTemperature':['mean', 'median']})"
   ]
  },
  {
   "cell_type": "markdown",
   "id": "de00af12",
   "metadata": {},
   "source": [
    "# 8. Scatterplot"
   ]
  },
  {
   "cell_type": "code",
   "execution_count": 31,
   "id": "3040869e",
   "metadata": {},
   "outputs": [
    {
     "data": {
      "image/png": "[encoded data removed]",
      "text/plain": [
       "<Figure size 864x576 with 1 Axes>"
      ]
     },
     "metadata": {
      "needs_background": "light"
     },
     "output_type": "display_data"
    },
    {
     "data": {
      "text/plain": [
       "<Figure size 432x288 with 0 Axes>"
      ]
     },
     "metadata": {},
     "output_type": "display_data"
    }
   ],
   "source": [
    "# Plot the clusters for the \"Year\" and \"AvgTemperature\" variables for subset_1995.\n",
    "\n",
    "plt.figure(figsize=(12,8))\n",
    "ax = sns.scatterplot(x=sub_95['Year'], y=sub_95['AvgTemperature'], hue=kmeans.labels_, s=100) \n",
    "ax.grid(False) # This removes the grid from the background.\n",
    "plt.xlabel('Year') # Label x-axis.\n",
    "plt.ylabel('Average temperature') # Label y-axis.\n",
    "plt.show()\n",
    "plt.savefig('scatterplot_95.png') # save picture in Python folder"
   ]
  },
  {
   "cell_type": "code",
   "execution_count": 45,
   "id": "24d6c53d",
   "metadata": {},
   "outputs": [
    {
     "data": {
      "image/png": "[encoded data removed]",
      "text/plain": [
       "<Figure size 864x576 with 1 Axes>"
      ]
     },
     "metadata": {
      "needs_background": "light"
     },
     "output_type": "display_data"
    },
    {
     "data": {
      "text/plain": [
       "<Figure size 432x288 with 0 Axes>"
      ]
     },
     "metadata": {},
     "output_type": "display_data"
    }
   ],
   "source": [
    "# Plot the clusters for the \"Year\" and \"AvgTemperature\" variables for subset_2019\n",
    "\n",
    "plt.figure(figsize=(12,8))\n",
    "ax = sns.scatterplot(x=sub_19['Year'], y=sub_19['AvgTemperature'], hue=kmeans.labels_, s=100) \n",
    "ax.grid(False) # This removes the grid from the background.\n",
    "plt.xlabel('Year') # Label x-axis.\n",
    "plt.ylabel('Average temperature') # Label y-axis.\n",
    "plt.show()\n",
    "plt.savefig('scatterplot_19.png') # save picture in Python folder"
   ]
  },
  {
   "cell_type": "markdown",
   "id": "1d6c77e2",
   "metadata": {},
   "source": [
    "#### I chosed to compare the first and the last year in the dataset. If I make a Scatterplot of the whole data set it will only be dots all over the the chart."
   ]
  },
  {
   "cell_type": "markdown",
   "id": "cc6cd005",
   "metadata": {},
   "source": [
    "# 9. Line chart"
   ]
  },
  {
   "cell_type": "code",
   "execution_count": 46,
   "id": "3eff768f",
   "metadata": {},
   "outputs": [
    {
     "data": {
      "image/png": "[encoded data removed]",
      "text/plain": [
       "<Figure size 432x288 with 1 Axes>"
      ]
     },
     "metadata": {
      "needs_background": "light"
     },
     "output_type": "display_data"
    }
   ],
   "source": [
    "# Create a line chart for another type of vizualisation.\n",
    "\n",
    "line = sns.lineplot(data = df, x = 'Year',y = 'AvgTemperature')"
   ]
  },
  {
   "cell_type": "markdown",
   "id": "e9bac931",
   "metadata": {},
   "source": [
    "#### Here you can clearly see how the temperature rises over time. The largest peak 2016-2017."
   ]
  },
  {
   "cell_type": "code",
   "execution_count": 79,
   "id": "c02c6a31",
   "metadata": {},
   "outputs": [
    {
     "data": {
      "image/png": "[encoded data removed]",
      "text/plain": [
       "<Figure size 432x288 with 1 Axes>"
      ]
     },
     "metadata": {
      "needs_background": "light"
     },
     "output_type": "display_data"
    }
   ],
   "source": [
    "# Create another type of linechart\n",
    "\n",
    "sns.lineplot(x = 'Year', y = 'AvgTemperature', color='r', err_style='bars', data = df)\n",
    "plt.show()"
   ]
  }
 ],
 "metadata": {
  "kernelspec": {
   "display_name": "Python 3",
   "language": "python",
   "name": "python3"
  },
  "language_info": {
   "codemirror_mode": {
    "name": "ipython",
    "version": 3
   },
   "file_extension": ".py",
   "mimetype": "text/x-python",
   "name": "python",
   "nbconvert_exporter": "python",
   "pygments_lexer": "ipython3",
   "version": "3.8.8"
  }
 },
 "nbformat": 4,
 "nbformat_minor": 5
}
