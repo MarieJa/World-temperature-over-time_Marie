{
 "cells": [
  {
   "cell_type": "markdown",
   "id": "92fc9164",
   "metadata": {},
   "source": [
    "### 1. Import libraries"
   ]
  },
  {
   "cell_type": "markdown",
   "id": "1a900bea",
   "metadata": {},
   "source": [
    "### 2. Import data"
   ]
  },
  {
   "cell_type": "markdown",
   "id": "0ff28319",
   "metadata": {},
   "source": [
    "### 3. Clean data\n",
    "  <ul>\n",
    "<li>3.1 Check columns</li>\n",
    "    <li>3.2 Missing values</li>\n",
    "    <li>3.3 Duplicates check</li>\n",
    "  </ul>"
   ]
  },
  {
   "cell_type": "markdown",
   "id": "3f082b38",
   "metadata": {},
   "source": [
    "### 4. Scatterplot\n",
    "  <ul>\n",
    "<li>4.1 Scatterplot of entire dataframe</li>\n",
    "    <li>4.2 Scatterplot of subset</li>\n",
    "    <li>4.3 Scatterplot of sample</li>\n",
    "  </ul>"
   ]
  },
  {
   "cell_type": "markdown",
   "id": "36e24c1a",
   "metadata": {},
   "source": [
    "### 5. Regression analysis\n",
    "  <ul>\n",
    "<li>5.1 Compare regression with training set</li>\n",
    "    <li>5.2 Compare the predicted and the actual y-values.</li>\n",
    "  </ul>"
   ]
  },
  {
   "cell_type": "markdown",
   "id": "7acd7e60",
   "metadata": {},
   "source": [
    "# 1. Import libraries"
   ]
  },
  {
   "cell_type": "code",
   "execution_count": 139,
   "id": "4085ec93",
   "metadata": {},
   "outputs": [],
   "source": [
    "import pandas as pd\n",
    "import numpy as np\n",
    "import seaborn as sns\n",
    "import matplotlib\n",
    "import matplotlib.pyplot as plt\n",
    "import os\n",
    "import sklearn\n",
    "from sklearn.model_selection import train_test_split \n",
    "from sklearn.linear_model import LinearRegression\n",
    "from sklearn.metrics import mean_squared_error, r2_score"
   ]
  },
  {
   "cell_type": "code",
   "execution_count": 56,
   "id": "3605f08c",
   "metadata": {},
   "outputs": [],
   "source": [
    "# Display charts without print them specifically.\n",
    "\n",
    "%matplotlib inline"
   ]
  },
  {
   "cell_type": "markdown",
   "id": "a1fca62c",
   "metadata": {},
   "source": [
    "# 2. Import data"
   ]
  },
  {
   "cell_type": "code",
   "execution_count": 57,
   "id": "e1c2ed5b",
   "metadata": {},
   "outputs": [],
   "source": [
    "# Creata a path\n",
    "\n",
    "path = r'/Users/marie/Documents/CareerFoundry/11-2021 City Temperatures'"
   ]
  },
  {
   "cell_type": "code",
   "execution_count": 58,
   "id": "c6b51cfb",
   "metadata": {},
   "outputs": [],
   "source": [
    "# Import data\n",
    "\n",
    "df = pd.read_csv(os.path.join(path, '02 Data', 'Prepared Data', 'city_temperatures_more_clean.csv'))"
   ]
  },
  {
   "cell_type": "markdown",
   "id": "18c5a91b",
   "metadata": {},
   "source": [
    "# 3. Clean data"
   ]
  },
  {
   "cell_type": "markdown",
   "id": "e6f1efc5",
   "metadata": {},
   "source": [
    "### 3.1 Check columns"
   ]
  },
  {
   "cell_type": "code",
   "execution_count": 59,
   "id": "e1cba5af",
   "metadata": {},
   "outputs": [
    {
     "data": {
      "text/plain": [
       "Index(['Unnamed: 0', 'Unnamed: 0.1', 'Region', 'Country', 'City', 'Month',\n",
       "       'Day', 'Year', 'AvgTemperature'],\n",
       "      dtype='object')"
      ]
     },
     "execution_count": 59,
     "metadata": {},
     "output_type": "execute_result"
    }
   ],
   "source": [
    "# Check columns\n",
    "\n",
    "df.columns"
   ]
  },
  {
   "cell_type": "code",
   "execution_count": 60,
   "id": "61c86003",
   "metadata": {},
   "outputs": [],
   "source": [
    "# Drop columns I don´t need for the analysis\n",
    "\n",
    "df.drop(['Unnamed: 0', 'Unnamed: 0.1', 'City'], axis=1, inplace = True)"
   ]
  },
  {
   "cell_type": "code",
   "execution_count": 61,
   "id": "6f597260",
   "metadata": {},
   "outputs": [
    {
     "data": {
      "text/plain": [
       "Index(['Region', 'Country', 'Month', 'Day', 'Year', 'AvgTemperature'], dtype='object')"
      ]
     },
     "execution_count": 61,
     "metadata": {},
     "output_type": "execute_result"
    }
   ],
   "source": [
    "# Check output\n",
    "\n",
    "df.columns"
   ]
  },
  {
   "cell_type": "code",
   "execution_count": 62,
   "id": "3890a101",
   "metadata": {},
   "outputs": [
    {
     "data": {
      "text/plain": [
       "(2867077, 6)"
      ]
     },
     "execution_count": 62,
     "metadata": {},
     "output_type": "execute_result"
    }
   ],
   "source": [
    "# Check shape\n",
    "\n",
    "df.shape"
   ]
  },
  {
   "cell_type": "markdown",
   "id": "5ef0f2c7",
   "metadata": {},
   "source": [
    "### 3.2 Missing values"
   ]
  },
  {
   "cell_type": "code",
   "execution_count": 63,
   "id": "7f39ff3a",
   "metadata": {},
   "outputs": [
    {
     "data": {
      "text/plain": [
       "Region            0\n",
       "Country           0\n",
       "Month             0\n",
       "Day               0\n",
       "Year              0\n",
       "AvgTemperature    0\n",
       "dtype: int64"
      ]
     },
     "execution_count": 63,
     "metadata": {},
     "output_type": "execute_result"
    }
   ],
   "source": [
    "# Check for missing values\n",
    "\n",
    "df.isnull().sum()"
   ]
  },
  {
   "cell_type": "markdown",
   "id": "502b45fb",
   "metadata": {},
   "source": [
    "#### No missing values in the dataset"
   ]
  },
  {
   "cell_type": "markdown",
   "id": "9a716b5b",
   "metadata": {},
   "source": [
    "### 3.3 Duplicates check"
   ]
  },
  {
   "cell_type": "code",
   "execution_count": 64,
   "id": "b46c4d60",
   "metadata": {},
   "outputs": [],
   "source": [
    "# Check for duplicates\n",
    "\n",
    "dups = df.duplicated()"
   ]
  },
  {
   "cell_type": "code",
   "execution_count": 65,
   "id": "4485b4f7",
   "metadata": {},
   "outputs": [
    {
     "data": {
      "text/plain": [
       "(2867077,)"
      ]
     },
     "execution_count": 65,
     "metadata": {},
     "output_type": "execute_result"
    }
   ],
   "source": [
    "# Print \"dups\"\n",
    "\n",
    "dups.shape"
   ]
  },
  {
   "cell_type": "markdown",
   "id": "16bbf51e",
   "metadata": {},
   "source": [
    "#### No duplicates in the dataset"
   ]
  },
  {
   "cell_type": "markdown",
   "id": "60761ed5",
   "metadata": {},
   "source": [
    "# 4. Scatterplot"
   ]
  },
  {
   "cell_type": "markdown",
   "id": "70015b4c",
   "metadata": {},
   "source": [
    "### 4.1 Scatterplot of entire dataframe"
   ]
  },
  {
   "cell_type": "code",
   "execution_count": 121,
   "id": "276dfe94",
   "metadata": {},
   "outputs": [
    {
     "data": {
      "image/png": "[encoded data removed]",
      "text/plain": [
       "<Figure size 432x288 with 1 Axes>"
      ]
     },
     "metadata": {
      "needs_background": "light"
     },
     "output_type": "display_data"
    }
   ],
   "source": [
    "# Create a scatterplot using matplotlib.\n",
    "\n",
    "df.plot(x = 'Month', y='AvgTemperature',style='o')\n",
    "plt.title('Average temperature per Month')  \n",
    "plt.xlabel('Month')  \n",
    "plt.ylabel('Average temperature')  \n",
    "plt.show()"
   ]
  },
  {
   "cell_type": "markdown",
   "id": "7a2b1360",
   "metadata": {},
   "source": [
    "#### There are too many datapoints in my dataset so I decided to make a subset of the year 2019."
   ]
  },
  {
   "cell_type": "markdown",
   "id": "9eb48bb0",
   "metadata": {},
   "source": [
    "### 4.2 Scatterplot of subset"
   ]
  },
  {
   "cell_type": "code",
   "execution_count": 164,
   "id": "02d6c4e0",
   "metadata": {},
   "outputs": [],
   "source": [
    "# Create a subset to see if the datapoints get less\n",
    "\n",
    "sub = df[df['Year']>2018]"
   ]
  },
  {
   "cell_type": "code",
   "execution_count": 165,
   "id": "8c0b2e8f",
   "metadata": {},
   "outputs": [
    {
     "data": {
      "text/html": [
       "<div>\n",
       "<style scoped>\n",
       "    .dataframe tbody tr th:only-of-type {\n",
       "        vertical-align: middle;\n",
       "    }\n",
       "\n",
       "    .dataframe tbody tr th {\n",
       "        vertical-align: top;\n",
       "    }\n",
       "\n",
       "    .dataframe thead th {\n",
       "        text-align: right;\n",
       "    }\n",
       "</style>\n",
       "<table border=\"1\" class=\"dataframe\">\n",
       "  <thead>\n",
       "    <tr style=\"text-align: right;\">\n",
       "      <th></th>\n",
       "      <th>Region</th>\n",
       "      <th>Country</th>\n",
       "      <th>Month</th>\n",
       "      <th>Day</th>\n",
       "      <th>Year</th>\n",
       "      <th>AvgTemperature</th>\n",
       "    </tr>\n",
       "  </thead>\n",
       "  <tbody>\n",
       "    <tr>\n",
       "      <th>8767</th>\n",
       "      <td>Africa</td>\n",
       "      <td>Algeria</td>\n",
       "      <td>1</td>\n",
       "      <td>1</td>\n",
       "      <td>2019</td>\n",
       "      <td>50.6</td>\n",
       "    </tr>\n",
       "    <tr>\n",
       "      <th>8768</th>\n",
       "      <td>Africa</td>\n",
       "      <td>Algeria</td>\n",
       "      <td>1</td>\n",
       "      <td>2</td>\n",
       "      <td>2019</td>\n",
       "      <td>49.9</td>\n",
       "    </tr>\n",
       "    <tr>\n",
       "      <th>8769</th>\n",
       "      <td>Africa</td>\n",
       "      <td>Algeria</td>\n",
       "      <td>1</td>\n",
       "      <td>3</td>\n",
       "      <td>2019</td>\n",
       "      <td>50.9</td>\n",
       "    </tr>\n",
       "    <tr>\n",
       "      <th>8770</th>\n",
       "      <td>Africa</td>\n",
       "      <td>Algeria</td>\n",
       "      <td>1</td>\n",
       "      <td>4</td>\n",
       "      <td>2019</td>\n",
       "      <td>50.6</td>\n",
       "    </tr>\n",
       "    <tr>\n",
       "      <th>8771</th>\n",
       "      <td>Africa</td>\n",
       "      <td>Algeria</td>\n",
       "      <td>1</td>\n",
       "      <td>5</td>\n",
       "      <td>2019</td>\n",
       "      <td>49.7</td>\n",
       "    </tr>\n",
       "  </tbody>\n",
       "</table>\n",
       "</div>"
      ],
      "text/plain": [
       "      Region  Country  Month  Day  Year  AvgTemperature\n",
       "8767  Africa  Algeria      1    1  2019            50.6\n",
       "8768  Africa  Algeria      1    2  2019            49.9\n",
       "8769  Africa  Algeria      1    3  2019            50.9\n",
       "8770  Africa  Algeria      1    4  2019            50.6\n",
       "8771  Africa  Algeria      1    5  2019            49.7"
      ]
     },
     "execution_count": 165,
     "metadata": {},
     "output_type": "execute_result"
    }
   ],
   "source": [
    "sub.head()"
   ]
  },
  {
   "cell_type": "code",
   "execution_count": 166,
   "id": "81d1e4f2",
   "metadata": {},
   "outputs": [
    {
     "data": {
      "text/plain": [
       "(106337, 6)"
      ]
     },
     "execution_count": 166,
     "metadata": {},
     "output_type": "execute_result"
    }
   ],
   "source": [
    "sub.shape"
   ]
  },
  {
   "cell_type": "code",
   "execution_count": 119,
   "id": "4d5db981",
   "metadata": {},
   "outputs": [
    {
     "data": {
      "image/png": "[encoded data removed]",
      "text/plain": [
       "<Figure size 432x288 with 1 Axes>"
      ]
     },
     "metadata": {
      "needs_background": "light"
     },
     "output_type": "display_data"
    }
   ],
   "source": [
    "# Create a Scatterplot usin the sub dataframe.\n",
    "\n",
    "sub.plot(x = 'Month', y='AvgTemperature',style='o') \n",
    "plt.title('Average temperature per Month')  \n",
    "plt.xlabel('Month')  \n",
    "plt.ylabel('Average temperature')  \n",
    "plt.show()"
   ]
  },
  {
   "cell_type": "markdown",
   "id": "539ff0aa",
   "metadata": {},
   "source": [
    "#### It didn't helped a lot. There are still so many datapoints that the Scatterplot makes \"lines\" instead of dots. I'll make a sample of the dataframe and see if it helps."
   ]
  },
  {
   "cell_type": "markdown",
   "id": "2ca32702",
   "metadata": {},
   "source": [
    "### 4.3 Scatterplot of sample"
   ]
  },
  {
   "cell_type": "code",
   "execution_count": 122,
   "id": "e5be371b",
   "metadata": {},
   "outputs": [],
   "source": [
    "# Create a sample of the dataframe to reduce it.\n",
    "\n",
    "sample = sub.sample(frac=2, replace=True, random_state=1)"
   ]
  },
  {
   "cell_type": "code",
   "execution_count": 123,
   "id": "bd63387f",
   "metadata": {},
   "outputs": [
    {
     "data": {
      "text/plain": [
       "(212674, 6)"
      ]
     },
     "execution_count": 123,
     "metadata": {},
     "output_type": "execute_result"
    }
   ],
   "source": [
    "# Print sample\n",
    "\n",
    "sample.shape\n",
    "\n",
    "# More rows than my subset."
   ]
  },
  {
   "cell_type": "code",
   "execution_count": 124,
   "id": "82493357",
   "metadata": {},
   "outputs": [
    {
     "data": {
      "image/png": "[encoded data removed]",
      "text/plain": [
       "<Figure size 432x288 with 1 Axes>"
      ]
     },
     "metadata": {
      "needs_background": "light"
     },
     "output_type": "display_data"
    }
   ],
   "source": [
    "# Create a Scatterplot from my sample.\n",
    "\n",
    "sample.plot(x = 'Month', y='AvgTemperature',style='o') \n",
    "plt.title('Average temperature per Month')  \n",
    "plt.xlabel('Month')  \n",
    "plt.ylabel('Average temperature')  \n",
    "plt.tick_params(axis='x', labelrotation=90)\n",
    "plt.show()"
   ]
  },
  {
   "cell_type": "markdown",
   "id": "b9a298ab",
   "metadata": {},
   "source": [
    "#### Didn't make it visually clearer. I'll use the first Scatterplot with my entire dataframe. "
   ]
  },
  {
   "cell_type": "markdown",
   "id": "17532863",
   "metadata": {},
   "source": [
    "# 5. Regression analysis"
   ]
  },
  {
   "cell_type": "code",
   "execution_count": 143,
   "id": "2fefda83",
   "metadata": {},
   "outputs": [],
   "source": [
    "# Reshape the variables into NumPy arrays and put them into separate objects.\n",
    "\n",
    "X = df['Month'].values.reshape(-1,1)\n",
    "y = df['AvgTemperature'].values.reshape(-1,1)"
   ]
  },
  {
   "cell_type": "code",
   "execution_count": 144,
   "id": "b7ccb8d5",
   "metadata": {},
   "outputs": [
    {
     "data": {
      "text/plain": [
       "array([[1],\n",
       "       [1],\n",
       "       [1],\n",
       "       ...,\n",
       "       [7],\n",
       "       [7],\n",
       "       [7]])"
      ]
     },
     "execution_count": 144,
     "metadata": {},
     "output_type": "execute_result"
    }
   ],
   "source": [
    "X"
   ]
  },
  {
   "cell_type": "code",
   "execution_count": 145,
   "id": "1a7e94dd",
   "metadata": {},
   "outputs": [
    {
     "data": {
      "text/plain": [
       "array([[64.2],\n",
       "       [49.4],\n",
       "       [48.8],\n",
       "       ...,\n",
       "       [84.2],\n",
       "       [83.8],\n",
       "       [83.6]])"
      ]
     },
     "execution_count": 145,
     "metadata": {},
     "output_type": "execute_result"
    }
   ],
   "source": [
    "y"
   ]
  },
  {
   "cell_type": "code",
   "execution_count": 146,
   "id": "e7ff418e",
   "metadata": {},
   "outputs": [],
   "source": [
    "# Split data into a training set and a test set.\n",
    "\n",
    "X_train, X_test, y_train, y_test = train_test_split(X, y, test_size=0.3, random_state=0)"
   ]
  },
  {
   "cell_type": "code",
   "execution_count": 147,
   "id": "c54e93d8",
   "metadata": {},
   "outputs": [],
   "source": [
    "# Create a regression object.\n",
    "\n",
    "regression = LinearRegression()  # This is the regression object, which will be fit onto the training set."
   ]
  },
  {
   "cell_type": "code",
   "execution_count": 148,
   "id": "bff10c55",
   "metadata": {},
   "outputs": [
    {
     "data": {
      "text/plain": [
       "LinearRegression()"
      ]
     },
     "execution_count": 148,
     "metadata": {},
     "output_type": "execute_result"
    }
   ],
   "source": [
    "# Fit the regression object onto the training set.\n",
    "\n",
    "regression.fit(X_train, y_train)"
   ]
  },
  {
   "cell_type": "code",
   "execution_count": 149,
   "id": "5e0db364",
   "metadata": {},
   "outputs": [],
   "source": [
    "# Predict the values of y using X.\n",
    "\n",
    "y_predicted = regression.predict(X_test)"
   ]
  },
  {
   "cell_type": "code",
   "execution_count": 150,
   "id": "1811162e",
   "metadata": {},
   "outputs": [
    {
     "data": {
      "image/png": "[encoded data removed]",
      "text/plain": [
       "<Figure size 432x288 with 1 Axes>"
      ]
     },
     "metadata": {
      "needs_background": "light"
     },
     "output_type": "display_data"
    }
   ],
   "source": [
    "# Create a plot that shows the regression line from the model on the test set.\n",
    "\n",
    "plot_test = plt\n",
    "plot_test.scatter(X_test, y_test, color='gray', s = 15)\n",
    "plot_test.plot(X_test, y_predicted, color='blue', linewidth =3)\n",
    "plot_test.title('Avereage temperature vs Month (Test set)')\n",
    "plot_test.xlabel('Month')\n",
    "plot_test.ylabel('Average temperature')\n",
    "plot_test.show()"
   ]
  },
  {
   "cell_type": "markdown",
   "id": "c3761d3d",
   "metadata": {},
   "source": [
    "#### This is really interesting! You can see on the line that the temperature rises over time."
   ]
  },
  {
   "cell_type": "code",
   "execution_count": 151,
   "id": "3594cfd9",
   "metadata": {},
   "outputs": [],
   "source": [
    "# Create objects that contain the model summary statistics.\n",
    "\n",
    "rmse = mean_squared_error(y_test, y_predicted) # This is the mean squared error\n",
    "r2 = r2_score(y_test, y_predicted) # This is the R2 score. "
   ]
  },
  {
   "cell_type": "code",
   "execution_count": 152,
   "id": "a60b80fd",
   "metadata": {},
   "outputs": [
    {
     "name": "stdout",
     "output_type": "stream",
     "text": [
      "Slope: [[0.73756741]]\n",
      "Mean squared error:  348.29720764103973\n",
      "R2 score:  0.01786541467282965\n"
     ]
    }
   ],
   "source": [
    "# Print the model summary statistics. (Evaluate the performance of the model).\n",
    "\n",
    "print('Slope:' ,regression.coef_)\n",
    "print('Mean squared error: ', rmse)\n",
    "print('R2 score: ', r2)"
   ]
  },
  {
   "cell_type": "markdown",
   "id": "1439a9d4",
   "metadata": {},
   "source": [
    "### 5.1 Compare how the regression fits the training set"
   ]
  },
  {
   "cell_type": "code",
   "execution_count": 155,
   "id": "2f07d890",
   "metadata": {},
   "outputs": [],
   "source": [
    "# Predict.\n",
    "\n",
    "y_predicted_train = regression.predict(X_train) # This is predicting X_train!"
   ]
  },
  {
   "cell_type": "code",
   "execution_count": 156,
   "id": "2e281075",
   "metadata": {},
   "outputs": [],
   "source": [
    "rmse = mean_squared_error(y_train, y_predicted_train)\n",
    "r2 = r2_score(y_train, y_predicted_train)"
   ]
  },
  {
   "cell_type": "code",
   "execution_count": 157,
   "id": "703c578a",
   "metadata": {},
   "outputs": [
    {
     "name": "stdout",
     "output_type": "stream",
     "text": [
      "Slope: [[0.73756741]]\n",
      "Mean squared error:  348.2793769220749\n",
      "R2 score:  0.018225720424957736\n"
     ]
    }
   ],
   "source": [
    "print('Slope:' ,regression.coef_)\n",
    "print('Mean squared error: ', rmse)\n",
    "print('R2 score: ', r2)"
   ]
  },
  {
   "cell_type": "code",
   "execution_count": 159,
   "id": "4fe2c5ac",
   "metadata": {},
   "outputs": [
    {
     "data": {
      "image/png": "[encoded data removed]",
      "text/plain": [
       "<Figure size 432x288 with 1 Axes>"
      ]
     },
     "metadata": {
      "needs_background": "light"
     },
     "output_type": "display_data"
    }
   ],
   "source": [
    "# Visualizing the training set results.\n",
    "\n",
    "plot_test = plt\n",
    "plot_test.scatter(X_train, y_train, color='blue', s = 15)\n",
    "plot_test.plot(X_train, y_predicted_train, color='grey', linewidth =3)\n",
    "plot_test.title('Avereage temperature vs Month (Test set)')\n",
    "plot_test.xlabel('Month')\n",
    "plot_test.ylabel('Average temperature')\n",
    "plot_test.show()"
   ]
  },
  {
   "cell_type": "markdown",
   "id": "49bd1861",
   "metadata": {},
   "source": [
    "#### The test set and the training set match match well, look the same."
   ]
  },
  {
   "cell_type": "markdown",
   "id": "1b13c194",
   "metadata": {},
   "source": [
    "### 5.2 Compare the predicted y values with the actual y values."
   ]
  },
  {
   "cell_type": "code",
   "execution_count": 162,
   "id": "fcb68811",
   "metadata": {},
   "outputs": [
    {
     "data": {
      "text/plain": [
       "array([[63.12065089],\n",
       "       [57.95767901],\n",
       "       [58.69524642],\n",
       "       ...,\n",
       "       [56.48254418],\n",
       "       [58.69524642],\n",
       "       [62.38308348]])"
      ]
     },
     "execution_count": 162,
     "metadata": {},
     "output_type": "execute_result"
    }
   ],
   "source": [
    "y_predicted"
   ]
  },
  {
   "cell_type": "code",
   "execution_count": 163,
   "id": "c61f31e7",
   "metadata": {},
   "outputs": [
    {
     "data": {
      "text/html": [
       "<div>\n",
       "<style scoped>\n",
       "    .dataframe tbody tr th:only-of-type {\n",
       "        vertical-align: middle;\n",
       "    }\n",
       "\n",
       "    .dataframe tbody tr th {\n",
       "        vertical-align: top;\n",
       "    }\n",
       "\n",
       "    .dataframe thead th {\n",
       "        text-align: right;\n",
       "    }\n",
       "</style>\n",
       "<table border=\"1\" class=\"dataframe\">\n",
       "  <thead>\n",
       "    <tr style=\"text-align: right;\">\n",
       "      <th></th>\n",
       "      <th>Actual</th>\n",
       "      <th>Predicted</th>\n",
       "    </tr>\n",
       "  </thead>\n",
       "  <tbody>\n",
       "    <tr>\n",
       "      <th>0</th>\n",
       "      <td>39.5</td>\n",
       "      <td>63.120651</td>\n",
       "    </tr>\n",
       "    <tr>\n",
       "      <th>1</th>\n",
       "      <td>79.1</td>\n",
       "      <td>57.957679</td>\n",
       "    </tr>\n",
       "    <tr>\n",
       "      <th>2</th>\n",
       "      <td>58.8</td>\n",
       "      <td>58.695246</td>\n",
       "    </tr>\n",
       "    <tr>\n",
       "      <th>3</th>\n",
       "      <td>62.2</td>\n",
       "      <td>57.957679</td>\n",
       "    </tr>\n",
       "    <tr>\n",
       "      <th>4</th>\n",
       "      <td>72.3</td>\n",
       "      <td>60.170381</td>\n",
       "    </tr>\n",
       "    <tr>\n",
       "      <th>5</th>\n",
       "      <td>38.1</td>\n",
       "      <td>63.120651</td>\n",
       "    </tr>\n",
       "    <tr>\n",
       "      <th>6</th>\n",
       "      <td>64.0</td>\n",
       "      <td>58.695246</td>\n",
       "    </tr>\n",
       "    <tr>\n",
       "      <th>7</th>\n",
       "      <td>23.7</td>\n",
       "      <td>64.595786</td>\n",
       "    </tr>\n",
       "    <tr>\n",
       "      <th>8</th>\n",
       "      <td>87.4</td>\n",
       "      <td>61.645516</td>\n",
       "    </tr>\n",
       "    <tr>\n",
       "      <th>9</th>\n",
       "      <td>31.5</td>\n",
       "      <td>64.595786</td>\n",
       "    </tr>\n",
       "    <tr>\n",
       "      <th>10</th>\n",
       "      <td>85.8</td>\n",
       "      <td>63.858218</td>\n",
       "    </tr>\n",
       "    <tr>\n",
       "      <th>11</th>\n",
       "      <td>77.5</td>\n",
       "      <td>63.858218</td>\n",
       "    </tr>\n",
       "    <tr>\n",
       "      <th>12</th>\n",
       "      <td>72.3</td>\n",
       "      <td>61.645516</td>\n",
       "    </tr>\n",
       "    <tr>\n",
       "      <th>13</th>\n",
       "      <td>85.1</td>\n",
       "      <td>60.907949</td>\n",
       "    </tr>\n",
       "    <tr>\n",
       "      <th>14</th>\n",
       "      <td>17.4</td>\n",
       "      <td>57.220112</td>\n",
       "    </tr>\n",
       "    <tr>\n",
       "      <th>15</th>\n",
       "      <td>40.5</td>\n",
       "      <td>57.957679</td>\n",
       "    </tr>\n",
       "    <tr>\n",
       "      <th>16</th>\n",
       "      <td>76.7</td>\n",
       "      <td>63.858218</td>\n",
       "    </tr>\n",
       "    <tr>\n",
       "      <th>17</th>\n",
       "      <td>37.1</td>\n",
       "      <td>57.220112</td>\n",
       "    </tr>\n",
       "    <tr>\n",
       "      <th>18</th>\n",
       "      <td>46.5</td>\n",
       "      <td>63.858218</td>\n",
       "    </tr>\n",
       "    <tr>\n",
       "      <th>19</th>\n",
       "      <td>60.9</td>\n",
       "      <td>56.482544</td>\n",
       "    </tr>\n",
       "    <tr>\n",
       "      <th>20</th>\n",
       "      <td>9.4</td>\n",
       "      <td>57.220112</td>\n",
       "    </tr>\n",
       "    <tr>\n",
       "      <th>21</th>\n",
       "      <td>65.0</td>\n",
       "      <td>57.957679</td>\n",
       "    </tr>\n",
       "    <tr>\n",
       "      <th>22</th>\n",
       "      <td>33.8</td>\n",
       "      <td>56.482544</td>\n",
       "    </tr>\n",
       "    <tr>\n",
       "      <th>23</th>\n",
       "      <td>81.9</td>\n",
       "      <td>60.907949</td>\n",
       "    </tr>\n",
       "    <tr>\n",
       "      <th>24</th>\n",
       "      <td>70.8</td>\n",
       "      <td>62.383083</td>\n",
       "    </tr>\n",
       "    <tr>\n",
       "      <th>25</th>\n",
       "      <td>41.4</td>\n",
       "      <td>64.595786</td>\n",
       "    </tr>\n",
       "    <tr>\n",
       "      <th>26</th>\n",
       "      <td>20.9</td>\n",
       "      <td>56.482544</td>\n",
       "    </tr>\n",
       "    <tr>\n",
       "      <th>27</th>\n",
       "      <td>43.8</td>\n",
       "      <td>64.595786</td>\n",
       "    </tr>\n",
       "    <tr>\n",
       "      <th>28</th>\n",
       "      <td>53.5</td>\n",
       "      <td>60.170381</td>\n",
       "    </tr>\n",
       "    <tr>\n",
       "      <th>29</th>\n",
       "      <td>83.3</td>\n",
       "      <td>62.383083</td>\n",
       "    </tr>\n",
       "  </tbody>\n",
       "</table>\n",
       "</div>"
      ],
      "text/plain": [
       "    Actual  Predicted\n",
       "0     39.5  63.120651\n",
       "1     79.1  57.957679\n",
       "2     58.8  58.695246\n",
       "3     62.2  57.957679\n",
       "4     72.3  60.170381\n",
       "5     38.1  63.120651\n",
       "6     64.0  58.695246\n",
       "7     23.7  64.595786\n",
       "8     87.4  61.645516\n",
       "9     31.5  64.595786\n",
       "10    85.8  63.858218\n",
       "11    77.5  63.858218\n",
       "12    72.3  61.645516\n",
       "13    85.1  60.907949\n",
       "14    17.4  57.220112\n",
       "15    40.5  57.957679\n",
       "16    76.7  63.858218\n",
       "17    37.1  57.220112\n",
       "18    46.5  63.858218\n",
       "19    60.9  56.482544\n",
       "20     9.4  57.220112\n",
       "21    65.0  57.957679\n",
       "22    33.8  56.482544\n",
       "23    81.9  60.907949\n",
       "24    70.8  62.383083\n",
       "25    41.4  64.595786\n",
       "26    20.9  56.482544\n",
       "27    43.8  64.595786\n",
       "28    53.5  60.170381\n",
       "29    83.3  62.383083"
      ]
     },
     "execution_count": 163,
     "metadata": {},
     "output_type": "execute_result"
    }
   ],
   "source": [
    "# Create a dataframe comparing the actual and predicted values of y.\n",
    "\n",
    "data = pd.DataFrame({'Actual': y_test.flatten(), 'Predicted': y_predicted.flatten()})\n",
    "data.head(30)"
   ]
  },
  {
   "cell_type": "markdown",
   "id": "9fff43f5",
   "metadata": {},
   "source": [
    "#### Some of the values between actual and predicted, for example index 20, differs a lot."
   ]
  },
  {
   "cell_type": "code",
   "execution_count": null,
   "id": "4b55b316",
   "metadata": {},
   "outputs": [],
   "source": []
  }
 ],
 "metadata": {
  "kernelspec": {
   "display_name": "Python 3",
   "language": "python",
   "name": "python3"
  },
  "language_info": {
   "codemirror_mode": {
    "name": "ipython",
    "version": 3
   },
   "file_extension": ".py",
   "mimetype": "text/x-python",
   "name": "python",
   "nbconvert_exporter": "python",
   "pygments_lexer": "ipython3",
   "version": "3.8.8"
  }
 },
 "nbformat": 4,
 "nbformat_minor": 5
}
