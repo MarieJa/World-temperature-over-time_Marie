{
 "cells": [
  {
   "cell_type": "markdown",
   "id": "789bd54b",
   "metadata": {},
   "source": [
    "# Descriptive statistics, wrangling and consistency check"
   ]
  },
  {
   "cell_type": "markdown",
   "id": "c6b81cb2",
   "metadata": {},
   "source": [
    "### 1. Import libraries"
   ]
  },
  {
   "cell_type": "markdown",
   "id": "f74cfd3c",
   "metadata": {},
   "source": [
    "### 2. Import data"
   ]
  },
  {
   "cell_type": "markdown",
   "id": "1dc0f073",
   "metadata": {},
   "source": [
    "### 3. Consistensy checks\n",
    "  <ul>\n",
    "<li>3.1 Checking for mixed data types</li>\n",
    " <li>3.2 Checking for missing values</li>\n",
    " <li>3.3 Checking for duplicates</li>\n",
    "  </ul>"
   ]
  },
  {
   "cell_type": "markdown",
   "id": "659141ec",
   "metadata": {},
   "source": [
    "### 4. Wrangling data\n",
    "  <ul>\n",
    "<li>4.1 Replace value</li>\n",
    "  </ul> "
   ]
  },
  {
   "cell_type": "markdown",
   "id": "aeded316",
   "metadata": {},
   "source": [
    "### 5. Export data"
   ]
  },
  {
   "cell_type": "markdown",
   "id": "2875bc38",
   "metadata": {},
   "source": [
    "# 1. Import libraries"
   ]
  },
  {
   "cell_type": "code",
   "execution_count": 1,
   "id": "edf2498b",
   "metadata": {},
   "outputs": [],
   "source": [
    "# Import libraries\n",
    "\n",
    "import pandas as pd\n",
    "import numpy as np\n",
    "import os\n",
    "import matplotlib.pyplot as plt\n",
    "import seaborn as sns\n",
    "import scipy"
   ]
  },
  {
   "cell_type": "markdown",
   "id": "1628479f",
   "metadata": {},
   "source": [
    "# 2. Import data"
   ]
  },
  {
   "cell_type": "code",
   "execution_count": 2,
   "id": "64cbf485",
   "metadata": {},
   "outputs": [],
   "source": [
    "# Create a path\n",
    "\n",
    "path = r'/Users/marie/Documents/CareerFoundry/11-2021 City Temperatures'"
   ]
  },
  {
   "cell_type": "code",
   "execution_count": 3,
   "id": "068f6b42",
   "metadata": {},
   "outputs": [
    {
     "name": "stderr",
     "output_type": "stream",
     "text": [
      "/Users/marie/opt/anaconda3/lib/python3.8/site-packages/IPython/core/interactiveshell.py:3165: DtypeWarning: Columns (2) have mixed types.Specify dtype option on import or set low_memory=False.\n",
      "  has_raised = await self.run_ast_nodes(code_ast.body, cell_name,\n"
     ]
    }
   ],
   "source": [
    "# Import data\n",
    "\n",
    "df = pd.read_csv(os.path.join(path, '02 Data', 'Original Data', 'city_temperature.csv'))"
   ]
  },
  {
   "cell_type": "code",
   "execution_count": 4,
   "id": "50775281",
   "metadata": {},
   "outputs": [
    {
     "data": {
      "text/html": [
       "<div>\n",
       "<style scoped>\n",
       "    .dataframe tbody tr th:only-of-type {\n",
       "        vertical-align: middle;\n",
       "    }\n",
       "\n",
       "    .dataframe tbody tr th {\n",
       "        vertical-align: top;\n",
       "    }\n",
       "\n",
       "    .dataframe thead th {\n",
       "        text-align: right;\n",
       "    }\n",
       "</style>\n",
       "<table border=\"1\" class=\"dataframe\">\n",
       "  <thead>\n",
       "    <tr style=\"text-align: right;\">\n",
       "      <th></th>\n",
       "      <th>Region</th>\n",
       "      <th>Country</th>\n",
       "      <th>State</th>\n",
       "      <th>City</th>\n",
       "      <th>Month</th>\n",
       "      <th>Day</th>\n",
       "      <th>Year</th>\n",
       "      <th>AvgTemperature</th>\n",
       "    </tr>\n",
       "  </thead>\n",
       "  <tbody>\n",
       "    <tr>\n",
       "      <th>0</th>\n",
       "      <td>Africa</td>\n",
       "      <td>Algeria</td>\n",
       "      <td>NaN</td>\n",
       "      <td>Algiers</td>\n",
       "      <td>1</td>\n",
       "      <td>1</td>\n",
       "      <td>1995</td>\n",
       "      <td>64.2</td>\n",
       "    </tr>\n",
       "    <tr>\n",
       "      <th>1</th>\n",
       "      <td>Africa</td>\n",
       "      <td>Algeria</td>\n",
       "      <td>NaN</td>\n",
       "      <td>Algiers</td>\n",
       "      <td>1</td>\n",
       "      <td>2</td>\n",
       "      <td>1995</td>\n",
       "      <td>49.4</td>\n",
       "    </tr>\n",
       "    <tr>\n",
       "      <th>2</th>\n",
       "      <td>Africa</td>\n",
       "      <td>Algeria</td>\n",
       "      <td>NaN</td>\n",
       "      <td>Algiers</td>\n",
       "      <td>1</td>\n",
       "      <td>3</td>\n",
       "      <td>1995</td>\n",
       "      <td>48.8</td>\n",
       "    </tr>\n",
       "    <tr>\n",
       "      <th>3</th>\n",
       "      <td>Africa</td>\n",
       "      <td>Algeria</td>\n",
       "      <td>NaN</td>\n",
       "      <td>Algiers</td>\n",
       "      <td>1</td>\n",
       "      <td>4</td>\n",
       "      <td>1995</td>\n",
       "      <td>46.4</td>\n",
       "    </tr>\n",
       "    <tr>\n",
       "      <th>4</th>\n",
       "      <td>Africa</td>\n",
       "      <td>Algeria</td>\n",
       "      <td>NaN</td>\n",
       "      <td>Algiers</td>\n",
       "      <td>1</td>\n",
       "      <td>5</td>\n",
       "      <td>1995</td>\n",
       "      <td>47.9</td>\n",
       "    </tr>\n",
       "  </tbody>\n",
       "</table>\n",
       "</div>"
      ],
      "text/plain": [
       "   Region  Country State     City  Month  Day  Year  AvgTemperature\n",
       "0  Africa  Algeria   NaN  Algiers      1    1  1995            64.2\n",
       "1  Africa  Algeria   NaN  Algiers      1    2  1995            49.4\n",
       "2  Africa  Algeria   NaN  Algiers      1    3  1995            48.8\n",
       "3  Africa  Algeria   NaN  Algiers      1    4  1995            46.4\n",
       "4  Africa  Algeria   NaN  Algiers      1    5  1995            47.9"
      ]
     },
     "execution_count": 4,
     "metadata": {},
     "output_type": "execute_result"
    }
   ],
   "source": [
    "# Print head\n",
    "\n",
    "df.head()"
   ]
  },
  {
   "cell_type": "code",
   "execution_count": 5,
   "id": "d51fe400",
   "metadata": {},
   "outputs": [
    {
     "data": {
      "text/html": [
       "<div>\n",
       "<style scoped>\n",
       "    .dataframe tbody tr th:only-of-type {\n",
       "        vertical-align: middle;\n",
       "    }\n",
       "\n",
       "    .dataframe tbody tr th {\n",
       "        vertical-align: top;\n",
       "    }\n",
       "\n",
       "    .dataframe thead th {\n",
       "        text-align: right;\n",
       "    }\n",
       "</style>\n",
       "<table border=\"1\" class=\"dataframe\">\n",
       "  <thead>\n",
       "    <tr style=\"text-align: right;\">\n",
       "      <th></th>\n",
       "      <th>Region</th>\n",
       "      <th>Country</th>\n",
       "      <th>State</th>\n",
       "      <th>City</th>\n",
       "      <th>Month</th>\n",
       "      <th>Day</th>\n",
       "      <th>Year</th>\n",
       "      <th>AvgTemperature</th>\n",
       "    </tr>\n",
       "  </thead>\n",
       "  <tbody>\n",
       "    <tr>\n",
       "      <th>2906322</th>\n",
       "      <td>North America</td>\n",
       "      <td>US</td>\n",
       "      <td>Additional Territories</td>\n",
       "      <td>San Juan Puerto Rico</td>\n",
       "      <td>7</td>\n",
       "      <td>27</td>\n",
       "      <td>2013</td>\n",
       "      <td>82.4</td>\n",
       "    </tr>\n",
       "    <tr>\n",
       "      <th>2906323</th>\n",
       "      <td>North America</td>\n",
       "      <td>US</td>\n",
       "      <td>Additional Territories</td>\n",
       "      <td>San Juan Puerto Rico</td>\n",
       "      <td>7</td>\n",
       "      <td>28</td>\n",
       "      <td>2013</td>\n",
       "      <td>81.6</td>\n",
       "    </tr>\n",
       "    <tr>\n",
       "      <th>2906324</th>\n",
       "      <td>North America</td>\n",
       "      <td>US</td>\n",
       "      <td>Additional Territories</td>\n",
       "      <td>San Juan Puerto Rico</td>\n",
       "      <td>7</td>\n",
       "      <td>29</td>\n",
       "      <td>2013</td>\n",
       "      <td>84.2</td>\n",
       "    </tr>\n",
       "    <tr>\n",
       "      <th>2906325</th>\n",
       "      <td>North America</td>\n",
       "      <td>US</td>\n",
       "      <td>Additional Territories</td>\n",
       "      <td>San Juan Puerto Rico</td>\n",
       "      <td>7</td>\n",
       "      <td>30</td>\n",
       "      <td>2013</td>\n",
       "      <td>83.8</td>\n",
       "    </tr>\n",
       "    <tr>\n",
       "      <th>2906326</th>\n",
       "      <td>North America</td>\n",
       "      <td>US</td>\n",
       "      <td>Additional Territories</td>\n",
       "      <td>San Juan Puerto Rico</td>\n",
       "      <td>7</td>\n",
       "      <td>31</td>\n",
       "      <td>2013</td>\n",
       "      <td>83.6</td>\n",
       "    </tr>\n",
       "  </tbody>\n",
       "</table>\n",
       "</div>"
      ],
      "text/plain": [
       "                Region Country                   State                  City  \\\n",
       "2906322  North America      US  Additional Territories  San Juan Puerto Rico   \n",
       "2906323  North America      US  Additional Territories  San Juan Puerto Rico   \n",
       "2906324  North America      US  Additional Territories  San Juan Puerto Rico   \n",
       "2906325  North America      US  Additional Territories  San Juan Puerto Rico   \n",
       "2906326  North America      US  Additional Territories  San Juan Puerto Rico   \n",
       "\n",
       "         Month  Day  Year  AvgTemperature  \n",
       "2906322      7   27  2013            82.4  \n",
       "2906323      7   28  2013            81.6  \n",
       "2906324      7   29  2013            84.2  \n",
       "2906325      7   30  2013            83.8  \n",
       "2906326      7   31  2013            83.6  "
      ]
     },
     "execution_count": 5,
     "metadata": {},
     "output_type": "execute_result"
    }
   ],
   "source": [
    "# Print tail\n",
    "\n",
    "df.tail()"
   ]
  },
  {
   "cell_type": "code",
   "execution_count": 6,
   "id": "19c7ebfe",
   "metadata": {},
   "outputs": [
    {
     "data": {
      "text/plain": [
       "(2906327, 8)"
      ]
     },
     "execution_count": 6,
     "metadata": {},
     "output_type": "execute_result"
    }
   ],
   "source": [
    "# Print shape\n",
    "\n",
    "df.shape"
   ]
  },
  {
   "cell_type": "markdown",
   "id": "3784b1a6",
   "metadata": {},
   "source": [
    "#### Since the column \"State\" includes a lot of NaN, and it's needless for this analysis (I have region, country and city), I decided to drop the column. "
   ]
  },
  {
   "cell_type": "code",
   "execution_count": 7,
   "id": "abc885e7",
   "metadata": {},
   "outputs": [],
   "source": [
    "# Dropping \"State\" column from df\n",
    "\n",
    "df = df.drop(columns = ['State'])"
   ]
  },
  {
   "cell_type": "code",
   "execution_count": 8,
   "id": "3099ba31",
   "metadata": {},
   "outputs": [
    {
     "data": {
      "text/html": [
       "<div>\n",
       "<style scoped>\n",
       "    .dataframe tbody tr th:only-of-type {\n",
       "        vertical-align: middle;\n",
       "    }\n",
       "\n",
       "    .dataframe tbody tr th {\n",
       "        vertical-align: top;\n",
       "    }\n",
       "\n",
       "    .dataframe thead th {\n",
       "        text-align: right;\n",
       "    }\n",
       "</style>\n",
       "<table border=\"1\" class=\"dataframe\">\n",
       "  <thead>\n",
       "    <tr style=\"text-align: right;\">\n",
       "      <th></th>\n",
       "      <th>Region</th>\n",
       "      <th>Country</th>\n",
       "      <th>City</th>\n",
       "      <th>Month</th>\n",
       "      <th>Day</th>\n",
       "      <th>Year</th>\n",
       "      <th>AvgTemperature</th>\n",
       "    </tr>\n",
       "  </thead>\n",
       "  <tbody>\n",
       "    <tr>\n",
       "      <th>0</th>\n",
       "      <td>Africa</td>\n",
       "      <td>Algeria</td>\n",
       "      <td>Algiers</td>\n",
       "      <td>1</td>\n",
       "      <td>1</td>\n",
       "      <td>1995</td>\n",
       "      <td>64.2</td>\n",
       "    </tr>\n",
       "    <tr>\n",
       "      <th>1</th>\n",
       "      <td>Africa</td>\n",
       "      <td>Algeria</td>\n",
       "      <td>Algiers</td>\n",
       "      <td>1</td>\n",
       "      <td>2</td>\n",
       "      <td>1995</td>\n",
       "      <td>49.4</td>\n",
       "    </tr>\n",
       "    <tr>\n",
       "      <th>2</th>\n",
       "      <td>Africa</td>\n",
       "      <td>Algeria</td>\n",
       "      <td>Algiers</td>\n",
       "      <td>1</td>\n",
       "      <td>3</td>\n",
       "      <td>1995</td>\n",
       "      <td>48.8</td>\n",
       "    </tr>\n",
       "    <tr>\n",
       "      <th>3</th>\n",
       "      <td>Africa</td>\n",
       "      <td>Algeria</td>\n",
       "      <td>Algiers</td>\n",
       "      <td>1</td>\n",
       "      <td>4</td>\n",
       "      <td>1995</td>\n",
       "      <td>46.4</td>\n",
       "    </tr>\n",
       "    <tr>\n",
       "      <th>4</th>\n",
       "      <td>Africa</td>\n",
       "      <td>Algeria</td>\n",
       "      <td>Algiers</td>\n",
       "      <td>1</td>\n",
       "      <td>5</td>\n",
       "      <td>1995</td>\n",
       "      <td>47.9</td>\n",
       "    </tr>\n",
       "  </tbody>\n",
       "</table>\n",
       "</div>"
      ],
      "text/plain": [
       "   Region  Country     City  Month  Day  Year  AvgTemperature\n",
       "0  Africa  Algeria  Algiers      1    1  1995            64.2\n",
       "1  Africa  Algeria  Algiers      1    2  1995            49.4\n",
       "2  Africa  Algeria  Algiers      1    3  1995            48.8\n",
       "3  Africa  Algeria  Algiers      1    4  1995            46.4\n",
       "4  Africa  Algeria  Algiers      1    5  1995            47.9"
      ]
     },
     "execution_count": 8,
     "metadata": {},
     "output_type": "execute_result"
    }
   ],
   "source": [
    "# Print df after dropping column\n",
    "\n",
    "df.head()"
   ]
  },
  {
   "cell_type": "code",
   "execution_count": 9,
   "id": "100e541c",
   "metadata": {},
   "outputs": [
    {
     "data": {
      "text/plain": [
       "(2906327, 7)"
      ]
     },
     "execution_count": 9,
     "metadata": {},
     "output_type": "execute_result"
    }
   ],
   "source": [
    "# Print shape after dropping column\n",
    "\n",
    "df.shape"
   ]
  },
  {
   "cell_type": "markdown",
   "id": "dcd1cd9d",
   "metadata": {},
   "source": [
    "# 3. Data Consistency Checks"
   ]
  },
  {
   "cell_type": "markdown",
   "id": "f182f92a",
   "metadata": {},
   "source": [
    "### 3.1 Checking for mixed data types"
   ]
  },
  {
   "cell_type": "code",
   "execution_count": 10,
   "id": "5e6aa4a0",
   "metadata": {},
   "outputs": [],
   "source": [
    "#Checking for columns with mixed data types\n",
    "\n",
    "for col in df.columns.tolist():\n",
    "  weird = (df[[col]].applymap(type) != df[[col]].iloc[0].apply(type)).any(axis = 1)\n",
    "  if len (df[weird]) > 0:\n",
    "    print (col)"
   ]
  },
  {
   "cell_type": "markdown",
   "id": "1ad68472",
   "metadata": {},
   "source": [
    "### 3.2 Checking for missing values"
   ]
  },
  {
   "cell_type": "code",
   "execution_count": 11,
   "id": "57196ebd",
   "metadata": {},
   "outputs": [
    {
     "data": {
      "text/plain": [
       "Region            0\n",
       "Country           0\n",
       "City              0\n",
       "Month             0\n",
       "Day               0\n",
       "Year              0\n",
       "AvgTemperature    0\n",
       "dtype: int64"
      ]
     },
     "execution_count": 11,
     "metadata": {},
     "output_type": "execute_result"
    }
   ],
   "source": [
    "# Checking for missing values in df.\n",
    "\n",
    "df.isnull().sum()"
   ]
  },
  {
   "cell_type": "markdown",
   "id": "b246fb26",
   "metadata": {},
   "source": [
    "#### There are no missing values in the dataframe."
   ]
  },
  {
   "cell_type": "markdown",
   "id": "a926f669",
   "metadata": {},
   "source": [
    "### 3.3 Checking for duplicates"
   ]
  },
  {
   "cell_type": "code",
   "execution_count": 13,
   "id": "99f4259a",
   "metadata": {},
   "outputs": [],
   "source": [
    "#Looking for duplicates in df (creating a new subset containing only duplicates)\n",
    "\n",
    "df_dups = df[df.duplicated()]"
   ]
  },
  {
   "cell_type": "code",
   "execution_count": 14,
   "id": "f5c2b120",
   "metadata": {},
   "outputs": [
    {
     "data": {
      "text/html": [
       "<div>\n",
       "<style scoped>\n",
       "    .dataframe tbody tr th:only-of-type {\n",
       "        vertical-align: middle;\n",
       "    }\n",
       "\n",
       "    .dataframe tbody tr th {\n",
       "        vertical-align: top;\n",
       "    }\n",
       "\n",
       "    .dataframe thead th {\n",
       "        text-align: right;\n",
       "    }\n",
       "</style>\n",
       "<table border=\"1\" class=\"dataframe\">\n",
       "  <thead>\n",
       "    <tr style=\"text-align: right;\">\n",
       "      <th></th>\n",
       "      <th>Region</th>\n",
       "      <th>Country</th>\n",
       "      <th>City</th>\n",
       "      <th>Month</th>\n",
       "      <th>Day</th>\n",
       "      <th>Year</th>\n",
       "      <th>AvgTemperature</th>\n",
       "    </tr>\n",
       "  </thead>\n",
       "  <tbody>\n",
       "    <tr>\n",
       "      <th>742977</th>\n",
       "      <td>Europe</td>\n",
       "      <td>Germany</td>\n",
       "      <td>Hamburg</td>\n",
       "      <td>12</td>\n",
       "      <td>9</td>\n",
       "      <td>2007</td>\n",
       "      <td>-99.0</td>\n",
       "    </tr>\n",
       "    <tr>\n",
       "      <th>742983</th>\n",
       "      <td>Europe</td>\n",
       "      <td>Germany</td>\n",
       "      <td>Hamburg</td>\n",
       "      <td>12</td>\n",
       "      <td>15</td>\n",
       "      <td>2007</td>\n",
       "      <td>-99.0</td>\n",
       "    </tr>\n",
       "    <tr>\n",
       "      <th>742984</th>\n",
       "      <td>Europe</td>\n",
       "      <td>Germany</td>\n",
       "      <td>Hamburg</td>\n",
       "      <td>12</td>\n",
       "      <td>16</td>\n",
       "      <td>2007</td>\n",
       "      <td>-99.0</td>\n",
       "    </tr>\n",
       "    <tr>\n",
       "      <th>742990</th>\n",
       "      <td>Europe</td>\n",
       "      <td>Germany</td>\n",
       "      <td>Hamburg</td>\n",
       "      <td>12</td>\n",
       "      <td>22</td>\n",
       "      <td>2007</td>\n",
       "      <td>-99.0</td>\n",
       "    </tr>\n",
       "    <tr>\n",
       "      <th>742991</th>\n",
       "      <td>Europe</td>\n",
       "      <td>Germany</td>\n",
       "      <td>Hamburg</td>\n",
       "      <td>12</td>\n",
       "      <td>23</td>\n",
       "      <td>2007</td>\n",
       "      <td>-99.0</td>\n",
       "    </tr>\n",
       "    <tr>\n",
       "      <th>...</th>\n",
       "      <td>...</td>\n",
       "      <td>...</td>\n",
       "      <td>...</td>\n",
       "      <td>...</td>\n",
       "      <td>...</td>\n",
       "      <td>...</td>\n",
       "      <td>...</td>\n",
       "    </tr>\n",
       "    <tr>\n",
       "      <th>2841036</th>\n",
       "      <td>North America</td>\n",
       "      <td>US</td>\n",
       "      <td>Charleston</td>\n",
       "      <td>5</td>\n",
       "      <td>22</td>\n",
       "      <td>2012</td>\n",
       "      <td>67.9</td>\n",
       "    </tr>\n",
       "    <tr>\n",
       "      <th>2841063</th>\n",
       "      <td>North America</td>\n",
       "      <td>US</td>\n",
       "      <td>Charleston</td>\n",
       "      <td>6</td>\n",
       "      <td>18</td>\n",
       "      <td>2012</td>\n",
       "      <td>73.2</td>\n",
       "    </tr>\n",
       "    <tr>\n",
       "      <th>2841358</th>\n",
       "      <td>North America</td>\n",
       "      <td>US</td>\n",
       "      <td>Charleston</td>\n",
       "      <td>4</td>\n",
       "      <td>9</td>\n",
       "      <td>2013</td>\n",
       "      <td>69.8</td>\n",
       "    </tr>\n",
       "    <tr>\n",
       "      <th>2841701</th>\n",
       "      <td>North America</td>\n",
       "      <td>US</td>\n",
       "      <td>Charleston</td>\n",
       "      <td>3</td>\n",
       "      <td>18</td>\n",
       "      <td>2014</td>\n",
       "      <td>42.8</td>\n",
       "    </tr>\n",
       "    <tr>\n",
       "      <th>2843682</th>\n",
       "      <td>North America</td>\n",
       "      <td>US</td>\n",
       "      <td>Charleston</td>\n",
       "      <td>8</td>\n",
       "      <td>20</td>\n",
       "      <td>2019</td>\n",
       "      <td>81.5</td>\n",
       "    </tr>\n",
       "  </tbody>\n",
       "</table>\n",
       "<p>20903 rows × 7 columns</p>\n",
       "</div>"
      ],
      "text/plain": [
       "                Region  Country        City  Month  Day  Year  AvgTemperature\n",
       "742977          Europe  Germany     Hamburg     12    9  2007           -99.0\n",
       "742983          Europe  Germany     Hamburg     12   15  2007           -99.0\n",
       "742984          Europe  Germany     Hamburg     12   16  2007           -99.0\n",
       "742990          Europe  Germany     Hamburg     12   22  2007           -99.0\n",
       "742991          Europe  Germany     Hamburg     12   23  2007           -99.0\n",
       "...                ...      ...         ...    ...  ...   ...             ...\n",
       "2841036  North America       US  Charleston      5   22  2012            67.9\n",
       "2841063  North America       US  Charleston      6   18  2012            73.2\n",
       "2841358  North America       US  Charleston      4    9  2013            69.8\n",
       "2841701  North America       US  Charleston      3   18  2014            42.8\n",
       "2843682  North America       US  Charleston      8   20  2019            81.5\n",
       "\n",
       "[20903 rows x 7 columns]"
      ]
     },
     "execution_count": 14,
     "metadata": {},
     "output_type": "execute_result"
    }
   ],
   "source": [
    "#Print df_dups\n",
    "\n",
    "df_dups"
   ]
  },
  {
   "cell_type": "markdown",
   "id": "71bd87f1",
   "metadata": {},
   "source": [
    "#### This is no duplicates since the \"Day\" differ. The other columns are the same."
   ]
  },
  {
   "cell_type": "code",
   "execution_count": 15,
   "id": "40526590",
   "metadata": {},
   "outputs": [
    {
     "data": {
      "text/html": [
       "<div>\n",
       "<style scoped>\n",
       "    .dataframe tbody tr th:only-of-type {\n",
       "        vertical-align: middle;\n",
       "    }\n",
       "\n",
       "    .dataframe tbody tr th {\n",
       "        vertical-align: top;\n",
       "    }\n",
       "\n",
       "    .dataframe thead th {\n",
       "        text-align: right;\n",
       "    }\n",
       "</style>\n",
       "<table border=\"1\" class=\"dataframe\">\n",
       "  <thead>\n",
       "    <tr style=\"text-align: right;\">\n",
       "      <th></th>\n",
       "      <th>Month</th>\n",
       "      <th>Day</th>\n",
       "      <th>Year</th>\n",
       "      <th>AvgTemperature</th>\n",
       "    </tr>\n",
       "  </thead>\n",
       "  <tbody>\n",
       "    <tr>\n",
       "      <th>count</th>\n",
       "      <td>2.906327e+06</td>\n",
       "      <td>2.906327e+06</td>\n",
       "      <td>2.906327e+06</td>\n",
       "      <td>2.906327e+06</td>\n",
       "    </tr>\n",
       "    <tr>\n",
       "      <th>mean</th>\n",
       "      <td>6.469163e+00</td>\n",
       "      <td>1.571682e+01</td>\n",
       "      <td>2.006624e+03</td>\n",
       "      <td>5.600492e+01</td>\n",
       "    </tr>\n",
       "    <tr>\n",
       "      <th>std</th>\n",
       "      <td>3.456489e+00</td>\n",
       "      <td>8.800534e+00</td>\n",
       "      <td>2.338226e+01</td>\n",
       "      <td>3.212359e+01</td>\n",
       "    </tr>\n",
       "    <tr>\n",
       "      <th>min</th>\n",
       "      <td>1.000000e+00</td>\n",
       "      <td>0.000000e+00</td>\n",
       "      <td>2.000000e+02</td>\n",
       "      <td>-9.900000e+01</td>\n",
       "    </tr>\n",
       "    <tr>\n",
       "      <th>25%</th>\n",
       "      <td>3.000000e+00</td>\n",
       "      <td>8.000000e+00</td>\n",
       "      <td>2.001000e+03</td>\n",
       "      <td>4.580000e+01</td>\n",
       "    </tr>\n",
       "    <tr>\n",
       "      <th>50%</th>\n",
       "      <td>6.000000e+00</td>\n",
       "      <td>1.600000e+01</td>\n",
       "      <td>2.007000e+03</td>\n",
       "      <td>6.250000e+01</td>\n",
       "    </tr>\n",
       "    <tr>\n",
       "      <th>75%</th>\n",
       "      <td>9.000000e+00</td>\n",
       "      <td>2.300000e+01</td>\n",
       "      <td>2.013000e+03</td>\n",
       "      <td>7.550000e+01</td>\n",
       "    </tr>\n",
       "    <tr>\n",
       "      <th>max</th>\n",
       "      <td>1.200000e+01</td>\n",
       "      <td>3.100000e+01</td>\n",
       "      <td>2.020000e+03</td>\n",
       "      <td>1.100000e+02</td>\n",
       "    </tr>\n",
       "  </tbody>\n",
       "</table>\n",
       "</div>"
      ],
      "text/plain": [
       "              Month           Day          Year  AvgTemperature\n",
       "count  2.906327e+06  2.906327e+06  2.906327e+06    2.906327e+06\n",
       "mean   6.469163e+00  1.571682e+01  2.006624e+03    5.600492e+01\n",
       "std    3.456489e+00  8.800534e+00  2.338226e+01    3.212359e+01\n",
       "min    1.000000e+00  0.000000e+00  2.000000e+02   -9.900000e+01\n",
       "25%    3.000000e+00  8.000000e+00  2.001000e+03    4.580000e+01\n",
       "50%    6.000000e+00  1.600000e+01  2.007000e+03    6.250000e+01\n",
       "75%    9.000000e+00  2.300000e+01  2.013000e+03    7.550000e+01\n",
       "max    1.200000e+01  3.100000e+01  2.020000e+03    1.100000e+02"
      ]
     },
     "execution_count": 15,
     "metadata": {},
     "output_type": "execute_result"
    }
   ],
   "source": [
    "# Print basic statistics after consistensy checks.\n",
    "\n",
    "df.describe()"
   ]
  },
  {
   "cell_type": "markdown",
   "id": "eb80016c",
   "metadata": {},
   "source": [
    "#### The AvgTemperature is in Fahrenheit, and the minimum temperature can not be -99.0 (-73 C). After reading the comments on Kaggle I found out that -99 value is instead of NaN."
   ]
  },
  {
   "cell_type": "markdown",
   "id": "e2c1421a",
   "metadata": {},
   "source": [
    "# 4. Wrangling data"
   ]
  },
  {
   "cell_type": "markdown",
   "id": "d8b4dd8e",
   "metadata": {},
   "source": [
    "### 4.1 Replace value"
   ]
  },
  {
   "cell_type": "code",
   "execution_count": 16,
   "id": "e8ff5f4c",
   "metadata": {},
   "outputs": [],
   "source": [
    "# Replace the -99.0 to NaN\n",
    "\n",
    "df['AvgTemperature'].replace(-99.0, np.nan, inplace=True)"
   ]
  },
  {
   "cell_type": "code",
   "execution_count": 17,
   "id": "75158798",
   "metadata": {},
   "outputs": [
    {
     "data": {
      "text/plain": [
       "Region             Africa\n",
       "Country           Albania\n",
       "City              Abidjan\n",
       "Month                   1\n",
       "Day                     0\n",
       "Year                  200\n",
       "AvgTemperature      -50.0\n",
       "dtype: object"
      ]
     },
     "execution_count": 17,
     "metadata": {},
     "output_type": "execute_result"
    }
   ],
   "source": [
    "# Check the minimum value after replacing -99.0\n",
    "\n",
    "df.min()"
   ]
  },
  {
   "cell_type": "markdown",
   "id": "bf2be47a",
   "metadata": {},
   "source": [
    "#### The minimum temperature is no longer -99.0"
   ]
  },
  {
   "cell_type": "code",
   "execution_count": 18,
   "id": "fa92877e",
   "metadata": {},
   "outputs": [
    {
     "data": {
      "text/html": [
       "<div>\n",
       "<style scoped>\n",
       "    .dataframe tbody tr th:only-of-type {\n",
       "        vertical-align: middle;\n",
       "    }\n",
       "\n",
       "    .dataframe tbody tr th {\n",
       "        vertical-align: top;\n",
       "    }\n",
       "\n",
       "    .dataframe thead th {\n",
       "        text-align: right;\n",
       "    }\n",
       "</style>\n",
       "<table border=\"1\" class=\"dataframe\">\n",
       "  <thead>\n",
       "    <tr style=\"text-align: right;\">\n",
       "      <th></th>\n",
       "      <th>Month</th>\n",
       "      <th>Day</th>\n",
       "      <th>Year</th>\n",
       "      <th>AvgTemperature</th>\n",
       "    </tr>\n",
       "  </thead>\n",
       "  <tbody>\n",
       "    <tr>\n",
       "      <th>count</th>\n",
       "      <td>2.906327e+06</td>\n",
       "      <td>2.906327e+06</td>\n",
       "      <td>2.906327e+06</td>\n",
       "      <td>2.826655e+06</td>\n",
       "    </tr>\n",
       "    <tr>\n",
       "      <th>mean</th>\n",
       "      <td>6.469163e+00</td>\n",
       "      <td>1.571682e+01</td>\n",
       "      <td>2.006624e+03</td>\n",
       "      <td>6.037388e+01</td>\n",
       "    </tr>\n",
       "    <tr>\n",
       "      <th>std</th>\n",
       "      <td>3.456489e+00</td>\n",
       "      <td>8.800534e+00</td>\n",
       "      <td>2.338226e+01</td>\n",
       "      <td>1.909744e+01</td>\n",
       "    </tr>\n",
       "    <tr>\n",
       "      <th>min</th>\n",
       "      <td>1.000000e+00</td>\n",
       "      <td>0.000000e+00</td>\n",
       "      <td>2.000000e+02</td>\n",
       "      <td>-5.000000e+01</td>\n",
       "    </tr>\n",
       "    <tr>\n",
       "      <th>25%</th>\n",
       "      <td>3.000000e+00</td>\n",
       "      <td>8.000000e+00</td>\n",
       "      <td>2.001000e+03</td>\n",
       "      <td>4.740000e+01</td>\n",
       "    </tr>\n",
       "    <tr>\n",
       "      <th>50%</th>\n",
       "      <td>6.000000e+00</td>\n",
       "      <td>1.600000e+01</td>\n",
       "      <td>2.007000e+03</td>\n",
       "      <td>6.330000e+01</td>\n",
       "    </tr>\n",
       "    <tr>\n",
       "      <th>75%</th>\n",
       "      <td>9.000000e+00</td>\n",
       "      <td>2.300000e+01</td>\n",
       "      <td>2.013000e+03</td>\n",
       "      <td>7.590000e+01</td>\n",
       "    </tr>\n",
       "    <tr>\n",
       "      <th>max</th>\n",
       "      <td>1.200000e+01</td>\n",
       "      <td>3.100000e+01</td>\n",
       "      <td>2.020000e+03</td>\n",
       "      <td>1.100000e+02</td>\n",
       "    </tr>\n",
       "  </tbody>\n",
       "</table>\n",
       "</div>"
      ],
      "text/plain": [
       "              Month           Day          Year  AvgTemperature\n",
       "count  2.906327e+06  2.906327e+06  2.906327e+06    2.826655e+06\n",
       "mean   6.469163e+00  1.571682e+01  2.006624e+03    6.037388e+01\n",
       "std    3.456489e+00  8.800534e+00  2.338226e+01    1.909744e+01\n",
       "min    1.000000e+00  0.000000e+00  2.000000e+02   -5.000000e+01\n",
       "25%    3.000000e+00  8.000000e+00  2.001000e+03    4.740000e+01\n",
       "50%    6.000000e+00  1.600000e+01  2.007000e+03    6.330000e+01\n",
       "75%    9.000000e+00  2.300000e+01  2.013000e+03    7.590000e+01\n",
       "max    1.200000e+01  3.100000e+01  2.020000e+03    1.100000e+02"
      ]
     },
     "execution_count": 18,
     "metadata": {},
     "output_type": "execute_result"
    }
   ],
   "source": [
    "# Check basic statistics after replacing -99.0\n",
    "\n",
    "df.describe()"
   ]
  },
  {
   "cell_type": "markdown",
   "id": "b3ff2418",
   "metadata": {},
   "source": [
    "#### Now it looks more correct. \n",
    "The average temperature is -50 F (-45,5 C) as minimum, and 110 F (43,3 C) as maximum.\n",
    "The mean is 60 F (15,5 C)."
   ]
  },
  {
   "cell_type": "markdown",
   "id": "9c3f3f98",
   "metadata": {},
   "source": [
    "### 4.2 Drop values in column"
   ]
  },
  {
   "cell_type": "code",
   "execution_count": 19,
   "id": "44c2dbb9",
   "metadata": {},
   "outputs": [
    {
     "data": {
      "text/plain": [
       "2020     38810\n",
       "2019    106337\n",
       "2018    106698\n",
       "2017    106946\n",
       "2016    107237\n",
       "2015    107498\n",
       "2014    109018\n",
       "2013    111021\n",
       "2012    111993\n",
       "2011    113740\n",
       "2010    115627\n",
       "2009    114247\n",
       "2008    114908\n",
       "2007    115428\n",
       "2006    117647\n",
       "2005    117895\n",
       "2004    118645\n",
       "2003    119140\n",
       "2002    119355\n",
       "2001    119355\n",
       "2000    119682\n",
       "1999    119355\n",
       "1998    119082\n",
       "1997    118656\n",
       "1996    118951\n",
       "1995    118616\n",
       "201        351\n",
       "200         89\n",
       "Name: Year, dtype: int64"
      ]
     },
     "execution_count": 19,
     "metadata": {},
     "output_type": "execute_result"
    }
   ],
   "source": [
    "# Check the column \"Year\" since the miminum year 200 not seems to be correct.\n",
    "\n",
    "df['Year'].value_counts().sort_index(ascending=False)"
   ]
  },
  {
   "cell_type": "markdown",
   "id": "0074d0be",
   "metadata": {},
   "source": [
    "#### Year 201 and 200 seems to be a typing error.  Since they are outliners I decide to delete them. I also want to delete year 2020 since it does not seem to be complete. "
   ]
  },
  {
   "cell_type": "code",
   "execution_count": 20,
   "id": "67a07921",
   "metadata": {},
   "outputs": [],
   "source": [
    "# Drop value 200 in column Year\n",
    "\n",
    "df.drop(df.index[df['Year'] == 200], inplace=True)"
   ]
  },
  {
   "cell_type": "code",
   "execution_count": 21,
   "id": "7ff797c1",
   "metadata": {},
   "outputs": [],
   "source": [
    "# Drop value 201 in column Year\n",
    "\n",
    "df.drop(df.index[df['Year'] == 201], inplace=True)"
   ]
  },
  {
   "cell_type": "code",
   "execution_count": 22,
   "id": "a823452b",
   "metadata": {},
   "outputs": [],
   "source": [
    "# Drop value 2020 in column Year\n",
    "\n",
    "df.drop(df.index[df['Year'] == 2020], inplace=True)"
   ]
  },
  {
   "cell_type": "code",
   "execution_count": 23,
   "id": "a1cf3f8b",
   "metadata": {},
   "outputs": [
    {
     "data": {
      "text/plain": [
       "2019    106337\n",
       "2018    106698\n",
       "2017    106946\n",
       "2016    107237\n",
       "2015    107498\n",
       "2014    109018\n",
       "2013    111021\n",
       "2012    111993\n",
       "2011    113740\n",
       "2010    115627\n",
       "2009    114247\n",
       "2008    114908\n",
       "2007    115428\n",
       "2006    117647\n",
       "2005    117895\n",
       "2004    118645\n",
       "2003    119140\n",
       "2002    119355\n",
       "2001    119355\n",
       "2000    119682\n",
       "1999    119355\n",
       "1998    119082\n",
       "1997    118656\n",
       "1996    118951\n",
       "1995    118616\n",
       "Name: Year, dtype: int64"
      ]
     },
     "execution_count": 23,
     "metadata": {},
     "output_type": "execute_result"
    }
   ],
   "source": [
    "# Print value counts after dropping 200,201 and 2020\n",
    "\n",
    "df['Year'].value_counts().sort_index(ascending=False)"
   ]
  },
  {
   "cell_type": "markdown",
   "id": "7982897d",
   "metadata": {},
   "source": [
    "# 5. Export data"
   ]
  },
  {
   "cell_type": "code",
   "execution_count": 25,
   "id": "c9a2d527",
   "metadata": {},
   "outputs": [],
   "source": [
    "#Export df to Prepared Data\n",
    "\n",
    "df.to_csv(os.path.join(path, '02 Data','Prepared Data', 'city_temperatures_clean.csv'))"
   ]
  }
 ],
 "metadata": {
  "kernelspec": {
   "display_name": "Python 3",
   "language": "python",
   "name": "python3"
  },
  "language_info": {
   "codemirror_mode": {
    "name": "ipython",
    "version": 3
   },
   "file_extension": ".py",
   "mimetype": "text/x-python",
   "name": "python",
   "nbconvert_exporter": "python",
   "pygments_lexer": "ipython3",
   "version": "3.8.8"
  }
 },
 "nbformat": 4,
 "nbformat_minor": 5
}
